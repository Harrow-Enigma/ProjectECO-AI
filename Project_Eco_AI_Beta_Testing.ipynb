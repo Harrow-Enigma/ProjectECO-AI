{
  "nbformat": 4,
  "nbformat_minor": 0,
  "metadata": {
    "accelerator": "GPU",
    "colab": {
      "name": "Project Eco AI Beta Testing.ipynb",
      "provenance": [],
      "collapsed_sections": [],
      "include_colab_link": true
    },
    "kernelspec": {
      "display_name": "Python 3",
      "name": "python3"
    }
  },
  "cells": [
    {
      "cell_type": "markdown",
      "metadata": {
        "id": "view-in-github",
        "colab_type": "text"
      },
      "source": [
        "<a href=\"https://colab.research.google.com/github/Harrow-Enigma/TeamEngima-ProjectEco-AI/blob/main/Project_Eco_AI_Beta_Testing.ipynb\" target=\"_parent\"><img src=\"https://colab.research.google.com/assets/colab-badge.svg\" alt=\"Open In Colab\"/></a>"
      ]
    },
    {
      "cell_type": "markdown",
      "metadata": {
        "id": "RK2Ie7F95sad"
      },
      "source": [
        "# Project ECO AI Beta Testing Model"
      ]
    },
    {
      "cell_type": "markdown",
      "metadata": {
        "id": "cKoV7XQJr12x"
      },
      "source": [
        "Copyright 2021 YIDING SONG\n",
        "\n",
        "Licensed under the Apache License, Version 2.0 (the \"License\");\n",
        "you may not use this file except in compliance with the License.\n",
        "You may obtain a copy of the License at\n",
        "\n",
        "    http://www.apache.org/licenses/LICENSE-2.0\n",
        "\n",
        "Unless required by applicable law or agreed to in writing, software\n",
        "distributed under the License is distributed on an \"AS IS\" BASIS,\n",
        "WITHOUT WARRANTIES OR CONDITIONS OF ANY KIND, either express or implied.\n",
        "See the License for the specific language governing permissions and\n",
        "limitations under the License."
      ]
    },
    {
      "cell_type": "code",
      "metadata": {
        "id": "G7WXdB25m4-y"
      },
      "source": [
        "!pip install tabulate\n",
        "!curl -o label_classes.py https://raw.githubusercontent.com/Harrow-Enigma/TeamEngima-ProjectEco-AI/main/label_classes.py"
      ],
      "execution_count": null,
      "outputs": []
    },
    {
      "cell_type": "code",
      "metadata": {
        "id": "yT8k9Osx8xA4"
      },
      "source": [
        "import numpy as np\n",
        "import pandas as pd\n",
        "import tensorflow as tf\n",
        "import matplotlib as mpl\n",
        "import matplotlib.pyplot as plt\n",
        "\n",
        "from datetime import timedelta, timezone\n",
        "from datetime import datetime as dt\n",
        "from tqdm import tqdm\n",
        "import pickle as pkl\n",
        "import requests\n",
        "import json\n",
        "import os"
      ],
      "execution_count": null,
      "outputs": []
    },
    {
      "cell_type": "code",
      "metadata": {
        "id": "CV7lITxcn1Oq"
      },
      "source": [
        "mpl.rcParams['figure.figsize'] = (8, 6)\n",
        "mpl.rcParams['axes.grid'] = False\n",
        "mpl.rcParams['axes.titlecolor'] = 'green'\n",
        "mpl.rcParams['axes.labelcolor'] = 'black'\n",
        "mpl.rcParams['xtick.color'] = 'black'\n",
        "mpl.rcParams['ytick.color'] = 'black'"
      ],
      "execution_count": null,
      "outputs": []
    },
    {
      "cell_type": "code",
      "metadata": {
        "id": "OAlxKRL4XAqi"
      },
      "source": [
        "np.random.seed(219)\n",
        "tf.random.set_seed(219)"
      ],
      "execution_count": null,
      "outputs": []
    },
    {
      "cell_type": "markdown",
      "metadata": {
        "id": "AfU54x-Un209"
      },
      "source": [
        "## Loading the data"
      ]
    },
    {
      "cell_type": "code",
      "metadata": {
        "id": "OYwtCOtGVsQs"
      },
      "source": [
        "def str2date(s):\n",
        "  return dt.strptime(s, '%Y-%m-%dT%H:%M:%S.%f%z')\n",
        "\n",
        "def dict2date(data_dict):\n",
        "  return str2date(data_dict['DATE'])"
      ],
      "execution_count": null,
      "outputs": []
    },
    {
      "cell_type": "code",
      "metadata": {
        "id": "EXTUeHptMFaI"
      },
      "source": [
        "beta_api_url = 'https://dev-test.projecteco.ml/api/v1/rest/output/forms/'\n",
        "response = requests.get(beta_api_url)\n",
        "json_data = response.json()\n",
        "json_data = sorted(json_data, key = dict2date)"
      ],
      "execution_count": null,
      "outputs": []
    },
    {
      "cell_type": "code",
      "metadata": {
        "id": "RebBNO5SPifB"
      },
      "source": [
        "for k in range(len(json_data)):\n",
        "  try:\n",
        "    _ = json_data[k]['localpollutiondata']\n",
        "    _has_key = True\n",
        "  except:\n",
        "    print('Error: No `localpollutiondata` key')\n",
        "    _has_key = False\n",
        "  \n",
        "  if _has_key:\n",
        "    for pol_key in list(json_data[k]['localpollutiondata']\\\n",
        "                        ['data'].keys()):\n",
        "      json_data[k][pol_key] = json_data[k]['localpollutiondata']\\\n",
        "                                       ['data'][pol_key]['v']\n",
        "    json_data[k].pop('localpollutiondata')"
      ],
      "execution_count": null,
      "outputs": []
    },
    {
      "cell_type": "code",
      "metadata": {
        "colab": {
          "base_uri": "https://localhost:8080/"
        },
        "id": "4gjcWgTkVwYS",
        "outputId": "efe93823-10a1-4bc6-8ead-50f05de068f6"
      },
      "source": [
        "print(json.dumps(json_data, indent=4, sort_keys=True))"
      ],
      "execution_count": null,
      "outputs": [
        {
          "output_type": "stream",
          "text": [
            "[\n",
            "    {\n",
            "        \"DATE\": \"2021-08-02T09:55:03.296Z\",\n",
            "        \"__v\": 0,\n",
            "        \"_id\": \"6107c0f71582990028230432\",\n",
            "        \"co\": 6.3,\n",
            "        \"h\": 77.5,\n",
            "        \"no2\": 34.3,\n",
            "        \"o3\": 15.8,\n",
            "        \"p\": 997.1,\n",
            "        \"pm10\": 35,\n",
            "        \"pm25\": 79,\n",
            "        \"q1\": 2,\n",
            "        \"q2\": 4,\n",
            "        \"q3\": 4,\n",
            "        \"q4\": \"no\",\n",
            "        \"q5\": \"no\",\n",
            "        \"so2\": 2.5,\n",
            "        \"t\": 31.6,\n",
            "        \"uvi\": 1,\n",
            "        \"w\": 1.5,\n",
            "        \"wg\": 6\n",
            "    },\n",
            "    {\n",
            "        \"DATE\": \"2021-08-02T10:14:29.689Z\",\n",
            "        \"__v\": 0,\n",
            "        \"_id\": \"6107c5851582990028230434\",\n",
            "        \"dew\": 12,\n",
            "        \"h\": 87,\n",
            "        \"no2\": 22,\n",
            "        \"o3\": 2,\n",
            "        \"p\": 1015,\n",
            "        \"pm10\": 10,\n",
            "        \"pm25\": 13,\n",
            "        \"q1\": 4,\n",
            "        \"q2\": 3,\n",
            "        \"q3\": 4,\n",
            "        \"q4\": \"no\",\n",
            "        \"q5\": \"no\",\n",
            "        \"t\": 14,\n",
            "        \"w\": 1.5,\n",
            "        \"wg\": 17.4\n",
            "    },\n",
            "    {\n",
            "        \"DATE\": \"2021-08-02T22:13:06.335Z\",\n",
            "        \"__v\": 0,\n",
            "        \"_id\": \"61086df215a71b002169c013\",\n",
            "        \"h\": 75,\n",
            "        \"no2\": 7.8,\n",
            "        \"o3\": 25.2,\n",
            "        \"p\": 1013.7,\n",
            "        \"pm10\": 10,\n",
            "        \"pm25\": 23,\n",
            "        \"q1\": 3,\n",
            "        \"q2\": 4,\n",
            "        \"q3\": 2,\n",
            "        \"q4\": \"no\",\n",
            "        \"q5\": \"no\",\n",
            "        \"so2\": 1.7,\n",
            "        \"t\": 14.1,\n",
            "        \"w\": 0.2,\n",
            "        \"wg\": 3\n",
            "    },\n",
            "    {\n",
            "        \"DATE\": \"2021-08-03T13:15:38.845Z\",\n",
            "        \"__v\": 0,\n",
            "        \"_id\": \"6109417bfc339c030ba122eb\",\n",
            "        \"co\": 6.7,\n",
            "        \"h\": 86.4,\n",
            "        \"no2\": 16,\n",
            "        \"o3\": 18.3,\n",
            "        \"p\": 997.3,\n",
            "        \"pm10\": 18,\n",
            "        \"pm25\": 30,\n",
            "        \"q1\": 5,\n",
            "        \"q2\": 5,\n",
            "        \"q3\": 1,\n",
            "        \"q4\": \"no\",\n",
            "        \"q5\": \"no\",\n",
            "        \"so2\": 2.2,\n",
            "        \"t\": 28.8,\n",
            "        \"uvi\": 0.1,\n",
            "        \"w\": 1.4,\n",
            "        \"wg\": 3.8\n",
            "    },\n",
            "    {\n",
            "        \"DATE\": \"2021-08-03T21:12:21.077Z\",\n",
            "        \"__v\": 0,\n",
            "        \"_id\": \"6109b135b14e6b00366279cf\",\n",
            "        \"h\": 67,\n",
            "        \"no2\": 5.2,\n",
            "        \"o3\": 26.9,\n",
            "        \"p\": 1014.5,\n",
            "        \"pm10\": 9,\n",
            "        \"pm25\": 17,\n",
            "        \"q1\": 4,\n",
            "        \"q2\": 3,\n",
            "        \"q3\": 4,\n",
            "        \"q4\": \"no\",\n",
            "        \"q5\": \"no\",\n",
            "        \"t\": 16,\n",
            "        \"w\": 1.2,\n",
            "        \"wg\": 4.6\n",
            "    },\n",
            "    {\n",
            "        \"DATE\": \"2021-08-04T12:59:39.639Z\",\n",
            "        \"__v\": 0,\n",
            "        \"_id\": \"610a8f3baba03d009920f7f7\",\n",
            "        \"co\": 8.8,\n",
            "        \"h\": 90,\n",
            "        \"no2\": 59.2,\n",
            "        \"o3\": 2.3,\n",
            "        \"p\": 995.1,\n",
            "        \"pm10\": 38,\n",
            "        \"pm25\": 91,\n",
            "        \"q1\": 2,\n",
            "        \"q2\": 3,\n",
            "        \"q3\": 3,\n",
            "        \"q4\": \"yes\",\n",
            "        \"q5\": \"yes\",\n",
            "        \"so2\": 4.1,\n",
            "        \"t\": 28.3,\n",
            "        \"uvi\": 0.1,\n",
            "        \"w\": 0.2,\n",
            "        \"wg\": 1.6\n",
            "    },\n",
            "    {\n",
            "        \"DATE\": \"2021-08-04T13:02:12.172Z\",\n",
            "        \"__v\": 0,\n",
            "        \"_id\": \"610a8fd4aba03d009920f7fe\",\n",
            "        \"h\": 60.2,\n",
            "        \"no2\": 2.9,\n",
            "        \"o3\": 35.6,\n",
            "        \"p\": 1099.3,\n",
            "        \"pm10\": 8,\n",
            "        \"pm25\": 21,\n",
            "        \"q1\": 3,\n",
            "        \"q2\": 2,\n",
            "        \"q3\": 3,\n",
            "        \"q4\": \"no\",\n",
            "        \"q5\": \"no\",\n",
            "        \"so2\": 1.1,\n",
            "        \"t\": 21.5,\n",
            "        \"w\": 1,\n",
            "        \"wg\": 2.2\n",
            "    },\n",
            "    {\n",
            "        \"DATE\": \"2021-08-04T14:30:16.463Z\",\n",
            "        \"__v\": 0,\n",
            "        \"_id\": \"610aa478aba03d009920fa5c\",\n",
            "        \"co\": 0.9,\n",
            "        \"h\": 48,\n",
            "        \"no2\": 0.9,\n",
            "        \"o3\": 35.1,\n",
            "        \"p\": 1016.1,\n",
            "        \"q1\": 2,\n",
            "        \"q2\": 2,\n",
            "        \"q3\": 3,\n",
            "        \"q4\": \"yes\",\n",
            "        \"q5\": \"no\",\n",
            "        \"t\": 19.549999999999997,\n",
            "        \"w\": 2.8499999999999996,\n",
            "        \"wg\": 1.5\n",
            "    },\n",
            "    {\n",
            "        \"DATE\": \"2021-08-04T16:42:09.338Z\",\n",
            "        \"__v\": 0,\n",
            "        \"_id\": \"610ac361ccee4a0021d999fd\",\n",
            "        \"dew\": 19,\n",
            "        \"h\": 78,\n",
            "        \"no2\": 6.2,\n",
            "        \"o3\": 13.2,\n",
            "        \"p\": 1010,\n",
            "        \"pm10\": 10,\n",
            "        \"pm25\": 27,\n",
            "        \"q1\": 4,\n",
            "        \"q2\": 4,\n",
            "        \"q3\": 2,\n",
            "        \"q4\": \"no\",\n",
            "        \"q5\": \"no\",\n",
            "        \"t\": 23,\n",
            "        \"w\": 3.6,\n",
            "        \"wg\": 10.8\n",
            "    },\n",
            "    {\n",
            "        \"DATE\": \"2021-08-04T19:05:33.733Z\",\n",
            "        \"__v\": 0,\n",
            "        \"_id\": \"610ae4fedbf3ce0023aaa6fb\",\n",
            "        \"co\": 5.4,\n",
            "        \"h\": 88,\n",
            "        \"no2\": 33.7,\n",
            "        \"o3\": 0.9,\n",
            "        \"p\": 1006,\n",
            "        \"pm10\": 9,\n",
            "        \"pm25\": 31,\n",
            "        \"q1\": 3,\n",
            "        \"q2\": 3,\n",
            "        \"q3\": 4,\n",
            "        \"q4\": \"yes\",\n",
            "        \"q5\": \"yes\",\n",
            "        \"so2\": 1.7,\n",
            "        \"t\": 27.7,\n",
            "        \"uvi\": 0.1,\n",
            "        \"w\": 9\n",
            "    },\n",
            "    {\n",
            "        \"DATE\": \"2021-08-04T21:17:47.482Z\",\n",
            "        \"__v\": 0,\n",
            "        \"_id\": \"610b03fbdbf3ce0023aaa805\",\n",
            "        \"h\": 78,\n",
            "        \"no2\": 1,\n",
            "        \"o3\": 38.6,\n",
            "        \"p\": 1016.2,\n",
            "        \"pm10\": 14,\n",
            "        \"q1\": 1,\n",
            "        \"q2\": 1,\n",
            "        \"q3\": 3,\n",
            "        \"q4\": \"yes\",\n",
            "        \"q5\": \"yes\",\n",
            "        \"so2\": 2.9,\n",
            "        \"t\": 25,\n",
            "        \"w\": 3.5,\n",
            "        \"wg\": 5.5\n",
            "    },\n",
            "    {\n",
            "        \"DATE\": \"2021-08-04T21:48:32.990Z\",\n",
            "        \"__v\": 0,\n",
            "        \"_id\": \"610b0b31dbf3ce0023aaa843\",\n",
            "        \"dew\": 18,\n",
            "        \"h\": 78,\n",
            "        \"no2\": 3.7,\n",
            "        \"o3\": 24.5,\n",
            "        \"p\": 1009,\n",
            "        \"pm10\": 19,\n",
            "        \"pm25\": 13,\n",
            "        \"q1\": 4,\n",
            "        \"q2\": 4,\n",
            "        \"q3\": 3,\n",
            "        \"q4\": \"no\",\n",
            "        \"q5\": \"yes\",\n",
            "        \"t\": 22,\n",
            "        \"w\": 2\n",
            "    },\n",
            "    {\n",
            "        \"DATE\": \"2021-08-04T22:00:51.390Z\",\n",
            "        \"__v\": 0,\n",
            "        \"_id\": \"610b0e13dbf3ce0023aaa85d\",\n",
            "        \"co\": 0.1,\n",
            "        \"h\": 59,\n",
            "        \"no2\": 14.3,\n",
            "        \"p\": 1008,\n",
            "        \"pm10\": 7,\n",
            "        \"q1\": 4,\n",
            "        \"q2\": 3,\n",
            "        \"q3\": 5,\n",
            "        \"q4\": \"yes\",\n",
            "        \"q5\": \"no\",\n",
            "        \"so2\": 5.2,\n",
            "        \"t\": 25,\n",
            "        \"w\": 0.2,\n",
            "        \"wg\": 0.5\n",
            "    },\n",
            "    {\n",
            "        \"DATE\": \"2021-08-04T22:58:19.832Z\",\n",
            "        \"__v\": 0,\n",
            "        \"_id\": \"610b1b8cdbf3ce0023aaa8d1\",\n",
            "        \"h\": 78.3,\n",
            "        \"no2\": 7.8,\n",
            "        \"p\": 1017.6,\n",
            "        \"pm10\": 10,\n",
            "        \"pm25\": 30,\n",
            "        \"q1\": 3,\n",
            "        \"q2\": 1,\n",
            "        \"q3\": 4,\n",
            "        \"q4\": \"yes\",\n",
            "        \"q5\": \"no\",\n",
            "        \"so2\": 3.7,\n",
            "        \"t\": 15.5,\n",
            "        \"w\": 0.5,\n",
            "        \"wg\": 0.6\n",
            "    },\n",
            "    {\n",
            "        \"DATE\": \"2021-08-05T00:48:19.049Z\",\n",
            "        \"__v\": 0,\n",
            "        \"_id\": \"610b3553e619f20030770e71\",\n",
            "        \"h\": 83.5,\n",
            "        \"no2\": 7.7,\n",
            "        \"o3\": 5,\n",
            "        \"p\": 1010.5,\n",
            "        \"pm10\": 11,\n",
            "        \"pm25\": 46,\n",
            "        \"q1\": 4,\n",
            "        \"q2\": 3,\n",
            "        \"q3\": 1,\n",
            "        \"q4\": \"no\",\n",
            "        \"q5\": \"no\",\n",
            "        \"so2\": 0.3,\n",
            "        \"t\": 13.5,\n",
            "        \"w\": 0.6,\n",
            "        \"wg\": 2.1\n",
            "    },\n",
            "    {\n",
            "        \"DATE\": \"2021-08-05T15:56:10.800Z\",\n",
            "        \"__v\": 0,\n",
            "        \"_id\": \"610c0a1bb529f400249c48e0\",\n",
            "        \"co\": 7.5,\n",
            "        \"h\": 93.6,\n",
            "        \"no2\": 39.3,\n",
            "        \"o3\": 8.9,\n",
            "        \"p\": 997.6,\n",
            "        \"pm10\": 30,\n",
            "        \"pm25\": 86,\n",
            "        \"q1\": 3,\n",
            "        \"q2\": 2,\n",
            "        \"q3\": 2,\n",
            "        \"q4\": \"no\",\n",
            "        \"q5\": \"no\",\n",
            "        \"so2\": 2.5,\n",
            "        \"t\": 28.3,\n",
            "        \"uvi\": 0.1,\n",
            "        \"w\": 0.4,\n",
            "        \"wg\": 1.6\n",
            "    },\n",
            "    {\n",
            "        \"DATE\": \"2021-08-05T18:00:30.473Z\",\n",
            "        \"__v\": 0,\n",
            "        \"_id\": \"610c273ebf2ccb0023315df7\",\n",
            "        \"co\": 7.5,\n",
            "        \"h\": 92.6,\n",
            "        \"no2\": 40.6,\n",
            "        \"o3\": 4.3,\n",
            "        \"p\": 997.1,\n",
            "        \"pm10\": 39,\n",
            "        \"pm25\": 100,\n",
            "        \"q1\": 4,\n",
            "        \"q2\": 3,\n",
            "        \"q3\": 3,\n",
            "        \"q4\": \"no\",\n",
            "        \"q5\": \"no\",\n",
            "        \"so2\": 2.3,\n",
            "        \"t\": 28.3,\n",
            "        \"uvi\": 0.1,\n",
            "        \"w\": 0.2,\n",
            "        \"wg\": 1.4\n",
            "    },\n",
            "    {\n",
            "        \"DATE\": \"2021-08-06T10:20:51.346Z\",\n",
            "        \"__v\": 0,\n",
            "        \"_id\": \"610d0d032c9edb0022b15a55\",\n",
            "        \"h\": 79,\n",
            "        \"no2\": 25.4,\n",
            "        \"o3\": 27.2,\n",
            "        \"p\": 996,\n",
            "        \"pm10\": 28,\n",
            "        \"pm25\": 66,\n",
            "        \"q1\": 4,\n",
            "        \"q2\": 2,\n",
            "        \"q3\": 3,\n",
            "        \"q4\": \"no\",\n",
            "        \"q5\": \"no\",\n",
            "        \"so2\": 3.1,\n",
            "        \"t\": 30,\n",
            "        \"uvi\": 1,\n",
            "        \"w\": 11\n",
            "    },\n",
            "    {\n",
            "        \"DATE\": \"2021-08-07T07:28:52.795Z\",\n",
            "        \"__v\": 0,\n",
            "        \"_id\": \"610e363511736900230e0e56\",\n",
            "        \"h\": 89.5,\n",
            "        \"no2\": 1.9,\n",
            "        \"o3\": 13,\n",
            "        \"p\": 999,\n",
            "        \"pm10\": 10,\n",
            "        \"pm25\": 21,\n",
            "        \"q1\": 4,\n",
            "        \"q2\": 4,\n",
            "        \"q3\": 3,\n",
            "        \"q4\": \"no\",\n",
            "        \"q5\": \"no\",\n",
            "        \"t\": 13.6,\n",
            "        \"w\": 1,\n",
            "        \"wg\": 8\n",
            "    }\n",
            "]\n"
          ],
          "name": "stdout"
        }
      ]
    },
    {
      "cell_type": "markdown",
      "metadata": {
        "id": "pP1QkHo23Ysd"
      },
      "source": [
        "## Defining the labels"
      ]
    },
    {
      "cell_type": "code",
      "metadata": {
        "id": "jSf0UkjO7o_d"
      },
      "source": [
        "FEATURE_CLASSES = [\n",
        "  FloatLabel('h'), FloatLabel('no2'), FloatLabel('o3'),\n",
        "  FloatLabel('p'), FloatLabel('pm10'), FloatLabel('pm25'),\n",
        "  FloatLabel('t'), FloatLabel('w'), FloatLabel('wg'),\n",
        "]"
      ],
      "execution_count": null,
      "outputs": []
    },
    {
      "cell_type": "code",
      "metadata": {
        "id": "vljxxBffTJKr"
      },
      "source": [
        "LABEL_CLASSES = [\n",
        "  IntClass('Q1 (General feeling)', _key='q1'),\n",
        "  IntClass('Q2 (Concentration)', _key='q2'),\n",
        "  IntClass('Q3 (Work Stress)', _key='q3'),\n",
        "  IntClassMap('Q4 (Dizziness, headaches, shortness of breath)',\n",
        "              {'no': 0, 'yes': 1},\n",
        "              _key='q4'),\n",
        "  IntClassMap('Q5 (Allergic responses)',\n",
        "              {'no': 0, 'yes': 1},\n",
        "              _key='q5')\n",
        "]"
      ],
      "execution_count": null,
      "outputs": []
    },
    {
      "cell_type": "markdown",
      "metadata": {
        "id": "0Hzbl2mi3g6X"
      },
      "source": [
        "## Data Pre-Processing"
      ]
    },
    {
      "cell_type": "code",
      "metadata": {
        "id": "h7CVYZfnhpQk"
      },
      "source": [
        "def handle_exception(feat_class, timestep_data):\n",
        "  try:\n",
        "    _val = timestep_data[feat_class.key]\n",
        "    if _val is not None:\n",
        "      return feat_class.fwd_call(_val)\n",
        "    return feat_class.fallback\n",
        "  except:\n",
        "    return feat_class.fallback"
      ],
      "execution_count": null,
      "outputs": []
    },
    {
      "cell_type": "code",
      "metadata": {
        "id": "do92xPm2JMpx"
      },
      "source": [
        "features = []\n",
        "labels = []\n",
        "\n",
        "for t in json_data:\n",
        "  features.append([handle_exception(c, t)\n",
        "                    for c in FEATURE_CLASSES])\n",
        "  labels.append([handle_exception(c, t)\n",
        "                    for c in LABEL_CLASSES])\n",
        "\n",
        "features = np.array(features, np.float32)\n",
        "labels = np.array(labels, np.float32)"
      ],
      "execution_count": null,
      "outputs": []
    },
    {
      "cell_type": "code",
      "metadata": {
        "id": "SF4RrAC6vQMx"
      },
      "source": [
        "def standardize(arr):\n",
        "  m = arr.mean(0)\n",
        "  s = arr.std(0)\n",
        "    \n",
        "  for i in range(len(s)):\n",
        "    if s[i] == 0:\n",
        "      s[i] = 1e-8\n",
        "  \n",
        "  arr = (arr - m)/s\n",
        "  return arr, m, s\n",
        "\n",
        "def destandardize(arr, m, s):\n",
        "  return arr * s + m\n",
        "\n",
        "def rescale(arr, delta=0.01):\n",
        "  arr_max = arr.max(axis=0) + delta\n",
        "  arr_min = arr.min(axis=0) - delta\n",
        "  arr_range = arr_max - arr_min\n",
        "  arr_ofst = (arr_max + arr_min) / 2\n",
        "  return (arr - arr_ofst) / arr_range, arr_ofst, arr_range\n",
        "\n",
        "def descale(arr, arr_ofst, arr_range):\n",
        "  return arr * arr_range + arr_ofst\n",
        "\n",
        "def normalize(arr):\n",
        "  arr_std, m, s = standardize(arr)\n",
        "  arr_norm, o, r = rescale(arr_std)\n",
        "  return arr_norm, m, s, o, r\n",
        "\n",
        "def denormalize(arr, m, s, o, r):\n",
        "  return destandardize(descale(arr, o, r), m, s)"
      ],
      "execution_count": null,
      "outputs": []
    },
    {
      "cell_type": "code",
      "metadata": {
        "id": "A8twPOKxwNv4"
      },
      "source": [
        "(features_norm,\n",
        " features_mean,\n",
        " features_stddv,\n",
        " features_ofst,\n",
        " features_range) = normalize(features)\n",
        "\n",
        "(labels_norm,\n",
        " labels_mean,\n",
        " labels_stddv,\n",
        " labels_ofst,\n",
        " labels_range) = normalize(labels)"
      ],
      "execution_count": null,
      "outputs": []
    },
    {
      "cell_type": "code",
      "metadata": {
        "id": "l4nvu2RlnIGF"
      },
      "source": [
        "assert features.all() == denormalize(features_norm, features_mean,\n",
        "                                     features_stddv, features_ofst, features_range).all()\n",
        "assert labels.all() == denormalize(labels_norm, labels_mean,\n",
        "                                   labels_stddv, labels_ofst, labels_range).all()"
      ],
      "execution_count": null,
      "outputs": []
    },
    {
      "cell_type": "code",
      "metadata": {
        "id": "YStxgvFtpGtq"
      },
      "source": [
        "dataset = tf.data.Dataset.from_tensor_slices((features, labels))"
      ],
      "execution_count": null,
      "outputs": []
    },
    {
      "cell_type": "code",
      "metadata": {
        "colab": {
          "base_uri": "https://localhost:8080/"
        },
        "id": "iKvL8AhtbeXI",
        "outputId": "c18ff414-6224-4c1d-c3dc-5f711f203a00"
      },
      "source": [
        "dataset_size = len(features_norm)\n",
        "ratio = 9/10\n",
        "train_no = int(ratio * dataset_size)\n",
        "test_no = dataset_size - train_no\n",
        "print('Number of training samples: {}'.format(train_no))\n",
        "print('Number of testing samples: {}'.format(test_no))"
      ],
      "execution_count": null,
      "outputs": [
        {
          "output_type": "stream",
          "text": [
            "Number of training samples: 17\n",
            "Number of testing samples: 2\n"
          ],
          "name": "stdout"
        }
      ]
    },
    {
      "cell_type": "code",
      "metadata": {
        "id": "ZzdMDOK8MsAL"
      },
      "source": [
        "train_features_norm = features_norm[:train_no]\n",
        "test_features_norm = features_norm[train_no:]\n",
        "train_labels_norm = labels_norm[:train_no]\n",
        "test_labels_norm = labels_norm[train_no:]"
      ],
      "execution_count": null,
      "outputs": []
    },
    {
      "cell_type": "code",
      "metadata": {
        "id": "YzXVu5ju3DH3"
      },
      "source": [
        "train_dataset = tf.data.Dataset.from_tensor_slices(\n",
        "    (train_features_norm, train_labels_norm)\n",
        ").batch(2, drop_remainder=False)\n",
        "test_dataset = tf.data.Dataset.from_tensor_slices(\n",
        "    (test_features_norm, test_labels_norm)\n",
        ").batch(2, drop_remainder=False)"
      ],
      "execution_count": null,
      "outputs": []
    },
    {
      "cell_type": "code",
      "metadata": {
        "id": "WVoilJ5t0ppw"
      },
      "source": [
        "pkl.dump({\n",
        "    'features': {\n",
        "        'classes': FEATURE_CLASSES,\n",
        "        'mean':    features_mean,\n",
        "        'std_dev': features_stddv,\n",
        "        'offset':  features_ofst,\n",
        "        'range':    features_range\n",
        "    },\n",
        "    'labels': {\n",
        "        'classes': LABEL_CLASSES,\n",
        "        'mean':    labels_mean,\n",
        "        'std_dev': labels_stddv,\n",
        "        'offset':  labels_ofst,\n",
        "        'range':    labels_range\n",
        "    },\n",
        "}, open('beta_data_aux.data', 'wb'))"
      ],
      "execution_count": null,
      "outputs": []
    },
    {
      "cell_type": "markdown",
      "metadata": {
        "id": "uKtkUZIJdBQH"
      },
      "source": [
        "## Building the model\n"
      ]
    },
    {
      "cell_type": "code",
      "metadata": {
        "id": "QMTrje52P_HZ"
      },
      "source": [
        "class DNNModel(tf.keras.Model):\n",
        "  def __init__(self,\n",
        "               inp_shape: int,\n",
        "               out_shape: int,\n",
        "               units=[32, 64, 64],\n",
        "               name='DNNModel'):\n",
        "    super(DNNModel, self).__init__(name = name)\n",
        "\n",
        "    self.inp_shape = inp_shape\n",
        "    self.out_shape = out_shape\n",
        "    \n",
        "    self.stack = [tf.keras.layers.Dense(i, activation='relu') for i in units]\n",
        "    self.out = tf.keras.layers.Dense(self.out_shape, activation='tanh')\n",
        "  \n",
        "  def call(self, inp):\n",
        "    x = inp\n",
        "    for _layer in self.stack:\n",
        "      x = _layer(x)\n",
        "    return self.out(x)\n",
        "  \n",
        "  def functional(self):\n",
        "    inputs = tf.keras.Input(self.inp_shape)\n",
        "    outputs = self.call(inputs)\n",
        "    return tf.keras.Model(inputs, outputs, name=self.name)"
      ],
      "execution_count": null,
      "outputs": []
    },
    {
      "cell_type": "code",
      "metadata": {
        "id": "ocLx4tSmh10G"
      },
      "source": [
        "sample_model = DNNModel(\n",
        "    len(FEATURE_CLASSES), len(LABEL_CLASSES)\n",
        ")"
      ],
      "execution_count": null,
      "outputs": []
    },
    {
      "cell_type": "code",
      "metadata": {
        "colab": {
          "base_uri": "https://localhost:8080/"
        },
        "id": "Wz4dEi62iTRi",
        "outputId": "d4d627d4-d5a7-4b75-fc47-b78c3bd72bda"
      },
      "source": [
        "for i in dataset.take(1):\n",
        "  sample_pred = sample_model(tf.expand_dims(i[0], 0))\n",
        "  print('Sample prediction of shape {}:\\n{}'.format(\n",
        "      sample_pred.shape, sample_pred\n",
        "  ))"
      ],
      "execution_count": null,
      "outputs": [
        {
          "output_type": "stream",
          "text": [
            "Sample prediction of shape (1, 5):\n",
            "[[ 1. -1. -1.  1.  1.]]\n"
          ],
          "name": "stdout"
        }
      ]
    },
    {
      "cell_type": "markdown",
      "metadata": {
        "id": "iIGJVxGDrJV-"
      },
      "source": [
        "### Model Visualization"
      ]
    },
    {
      "cell_type": "code",
      "metadata": {
        "colab": {
          "base_uri": "https://localhost:8080/"
        },
        "id": "Ea--4kT0iCZ6",
        "outputId": "5e30e8e1-e50a-425e-c4e2-67ee81867d24"
      },
      "source": [
        "sample_model.summary()"
      ],
      "execution_count": null,
      "outputs": [
        {
          "output_type": "stream",
          "text": [
            "Model: \"DNNModel\"\n",
            "_________________________________________________________________\n",
            "Layer (type)                 Output Shape              Param #   \n",
            "=================================================================\n",
            "dense_15 (Dense)             multiple                  320       \n",
            "_________________________________________________________________\n",
            "dense_16 (Dense)             multiple                  2112      \n",
            "_________________________________________________________________\n",
            "dense_17 (Dense)             multiple                  4160      \n",
            "_________________________________________________________________\n",
            "dense_18 (Dense)             multiple                  325       \n",
            "=================================================================\n",
            "Total params: 6,917\n",
            "Trainable params: 6,917\n",
            "Non-trainable params: 0\n",
            "_________________________________________________________________\n"
          ],
          "name": "stdout"
        }
      ]
    },
    {
      "cell_type": "code",
      "metadata": {
        "colab": {
          "base_uri": "https://localhost:8080/",
          "height": 466
        },
        "id": "HVrQLwQgeyUF",
        "outputId": "5e684e17-fbee-41d0-eded-6ff5de85f684"
      },
      "source": [
        "tf.keras.utils.plot_model(sample_model.functional(), to_file=\"model.png\")"
      ],
      "execution_count": null,
      "outputs": [
        {
          "output_type": "execute_result",
          "data": {
            "image/png": "[encoded data removed]",
            "text/plain": [
              "<IPython.core.display.Image object>"
            ]
          },
          "metadata": {
            "tags": []
          },
          "execution_count": 161
        }
      ]
    },
    {
      "cell_type": "markdown",
      "metadata": {
        "id": "3KdaPOHNrV1n"
      },
      "source": [
        "## Defining losses and optimizers"
      ]
    },
    {
      "cell_type": "code",
      "metadata": {
        "id": "EZiGmJLBQBBp"
      },
      "source": [
        "mae = tf.keras.losses.MeanAbsoluteError()\n",
        "optim = tf.keras.optimizers.Adam(1e-3)"
      ],
      "execution_count": null,
      "outputs": []
    },
    {
      "cell_type": "code",
      "metadata": {
        "id": "UmqBB-Sn9v3H"
      },
      "source": [
        "model = DNNModel(\n",
        "    len(FEATURE_CLASSES), len(LABEL_CLASSES)\n",
        ")\n",
        "model.compile(optimizer = optim, loss = mae)"
      ],
      "execution_count": null,
      "outputs": []
    },
    {
      "cell_type": "markdown",
      "metadata": {
        "id": "G2t_KGe2TcVp"
      },
      "source": [
        "## Defining training checkpoints"
      ]
    },
    {
      "cell_type": "code",
      "metadata": {
        "id": "EbwP_IJjUW0b"
      },
      "source": [
        "checkpoint_dir = './ProjectECO_Beta_Checkpoints/'\n",
        "\n",
        "if not os.path.exists(checkpoint_dir):\n",
        "  os.mkdir(checkpoint_dir)\n",
        "\n",
        "checkpoint_prefix = os.path.join(checkpoint_dir, \"ckpt_{epoch}\")\n",
        "\n",
        "checkpoint_callback = tf.keras.callbacks.ModelCheckpoint(\n",
        "    filepath = checkpoint_prefix,\n",
        "    save_weights_only = True)"
      ],
      "execution_count": null,
      "outputs": []
    },
    {
      "cell_type": "markdown",
      "metadata": {
        "id": "0LlifWinreT4"
      },
      "source": [
        "## TRAINING!!"
      ]
    },
    {
      "cell_type": "code",
      "metadata": {
        "id": "jQJ00rrO-wJM",
        "colab": {
          "base_uri": "https://localhost:8080/"
        },
        "outputId": "01637480-208a-41a0-dee0-2b9e83e0e061"
      },
      "source": [
        "model.fit(train_dataset.repeat(), callbacks=[checkpoint_callback],\n",
        "          steps_per_epoch = 1000, epochs = 10)"
      ],
      "execution_count": null,
      "outputs": [
        {
          "output_type": "stream",
          "text": [
            "Epoch 1/10\n",
            "1000/1000 [==============================] - 2s 2ms/step - loss: 0.0954\n",
            "Epoch 2/10\n",
            "1000/1000 [==============================] - 2s 2ms/step - loss: 0.0231\n",
            "Epoch 3/10\n",
            "1000/1000 [==============================] - 2s 2ms/step - loss: 0.0171\n",
            "Epoch 4/10\n",
            "1000/1000 [==============================] - 2s 2ms/step - loss: 0.0149\n",
            "Epoch 5/10\n",
            "1000/1000 [==============================] - 2s 2ms/step - loss: 0.0137\n",
            "Epoch 6/10\n",
            "1000/1000 [==============================] - 2s 2ms/step - loss: 0.0128\n",
            "Epoch 7/10\n",
            "1000/1000 [==============================] - 2s 2ms/step - loss: 0.0122\n",
            "Epoch 8/10\n",
            "1000/1000 [==============================] - 2s 2ms/step - loss: 0.0115\n",
            "Epoch 9/10\n",
            "1000/1000 [==============================] - 2s 2ms/step - loss: 0.0108\n",
            "Epoch 10/10\n",
            "1000/1000 [==============================] - 2s 2ms/step - loss: 0.0104\n"
          ],
          "name": "stdout"
        },
        {
          "output_type": "execute_result",
          "data": {
            "text/plain": [
              "<tensorflow.python.keras.callbacks.History at 0x7f026003af90>"
            ]
          },
          "metadata": {
            "tags": []
          },
          "execution_count": 213
        }
      ]
    },
    {
      "cell_type": "code",
      "metadata": {
        "id": "-eAozScagDTh",
        "colab": {
          "base_uri": "https://localhost:8080/"
        },
        "outputId": "c76128c7-68e0-42d9-8110-d5ed3788d6fe"
      },
      "source": [
        "model.evaluate(test_dataset)"
      ],
      "execution_count": null,
      "outputs": [
        {
          "output_type": "stream",
          "text": [
            "1/1 [==============================] - 0s 82ms/step - loss: 0.2566\n"
          ],
          "name": "stdout"
        },
        {
          "output_type": "execute_result",
          "data": {
            "text/plain": [
              "0.25659307837486267"
            ]
          },
          "metadata": {
            "tags": []
          },
          "execution_count": 214
        }
      ]
    },
    {
      "cell_type": "code",
      "metadata": {
        "colab": {
          "base_uri": "https://localhost:8080/"
        },
        "id": "WNIROPE1ehYo",
        "outputId": "07ce4b2c-2933-4949-eb0c-0c08db236406"
      },
      "source": [
        "model.save_weights('beta_weights.h5')\n",
        "model.functional().save('beta_model_func.h5')"
      ],
      "execution_count": null,
      "outputs": [
        {
          "output_type": "stream",
          "text": [
            "WARNING:tensorflow:Compiled the loaded model, but the compiled metrics have yet to be built. `model.compile_metrics` will be empty until you train or evaluate the model.\n"
          ],
          "name": "stdout"
        }
      ]
    },
    {
      "cell_type": "code",
      "metadata": {
        "colab": {
          "base_uri": "https://localhost:8080/",
          "height": 17
        },
        "id": "ibu2DaNvU77L",
        "outputId": "8ee42c48-9f8a-49cf-ebd1-e2c76cb3b605"
      },
      "source": [
        "from google.colab import files\n",
        "\n",
        "for name in os.listdir('./'):\n",
        "  if not os.path.isdir(name):\n",
        "    files.download(name)"
      ],
      "execution_count": null,
      "outputs": [
        {
          "output_type": "display_data",
          "data": {
            "application/javascript": [
              "\n",
              "    async function download(id, filename, size) {\n",
              "      if (!google.colab.kernel.accessAllowed) {\n",
              "        return;\n",
              "      }\n",
              "      const div = document.createElement('div');\n",
              "      const label = document.createElement('label');\n",
              "      label.textContent = `Downloading \"${filename}\": `;\n",
              "      div.appendChild(label);\n",
              "      const progress = document.createElement('progress');\n",
              "      progress.max = size;\n",
              "      div.appendChild(progress);\n",
              "      document.body.appendChild(div);\n",
              "\n",
              "      const buffers = [];\n",
              "      let downloaded = 0;\n",
              "\n",
              "      const channel = await google.colab.kernel.comms.open(id);\n",
              "      // Send a message to notify the kernel that we're ready.\n",
              "      channel.send({})\n",
              "\n",
              "      for await (const message of channel.messages) {\n",
              "        // Send a message to notify the kernel that we're ready.\n",
              "        channel.send({})\n",
              "        if (message.buffers) {\n",
              "          for (const buffer of message.buffers) {\n",
              "            buffers.push(buffer);\n",
              "            downloaded += buffer.byteLength;\n",
              "            progress.value = downloaded;\n",
              "          }\n",
              "        }\n",
              "      }\n",
              "      const blob = new Blob(buffers, {type: 'application/binary'});\n",
              "      const a = document.createElement('a');\n",
              "      a.href = window.URL.createObjectURL(blob);\n",
              "      a.download = filename;\n",
              "      div.appendChild(a);\n",
              "      a.click();\n",
              "      div.remove();\n",
              "    }\n",
              "  "
            ],
            "text/plain": [
              "<IPython.core.display.Javascript object>"
            ]
          },
          "metadata": {
            "tags": []
          }
        },
        {
          "output_type": "display_data",
          "data": {
            "application/javascript": [
              "download(\"download_2d29ea4b-185d-4fcc-81ce-273d3709bb13\", \"weights.h5\", 49440)"
            ],
            "text/plain": [
              "<IPython.core.display.Javascript object>"
            ]
          },
          "metadata": {
            "tags": []
          }
        },
        {
          "output_type": "display_data",
          "data": {
            "application/javascript": [
              "\n",
              "    async function download(id, filename, size) {\n",
              "      if (!google.colab.kernel.accessAllowed) {\n",
              "        return;\n",
              "      }\n",
              "      const div = document.createElement('div');\n",
              "      const label = document.createElement('label');\n",
              "      label.textContent = `Downloading \"${filename}\": `;\n",
              "      div.appendChild(label);\n",
              "      const progress = document.createElement('progress');\n",
              "      progress.max = size;\n",
              "      div.appendChild(progress);\n",
              "      document.body.appendChild(div);\n",
              "\n",
              "      const buffers = [];\n",
              "      let downloaded = 0;\n",
              "\n",
              "      const channel = await google.colab.kernel.comms.open(id);\n",
              "      // Send a message to notify the kernel that we're ready.\n",
              "      channel.send({})\n",
              "\n",
              "      for await (const message of channel.messages) {\n",
              "        // Send a message to notify the kernel that we're ready.\n",
              "        channel.send({})\n",
              "        if (message.buffers) {\n",
              "          for (const buffer of message.buffers) {\n",
              "            buffers.push(buffer);\n",
              "            downloaded += buffer.byteLength;\n",
              "            progress.value = downloaded;\n",
              "          }\n",
              "        }\n",
              "      }\n",
              "      const blob = new Blob(buffers, {type: 'application/binary'});\n",
              "      const a = document.createElement('a');\n",
              "      a.href = window.URL.createObjectURL(blob);\n",
              "      a.download = filename;\n",
              "      div.appendChild(a);\n",
              "      a.click();\n",
              "      div.remove();\n",
              "    }\n",
              "  "
            ],
            "text/plain": [
              "<IPython.core.display.Javascript object>"
            ]
          },
          "metadata": {
            "tags": []
          }
        },
        {
          "output_type": "display_data",
          "data": {
            "application/javascript": [
              "download(\"download_81dd45a3-9b28-4729-880d-6ca1997a7009\", \"data_aux.json\", 1654)"
            ],
            "text/plain": [
              "<IPython.core.display.Javascript object>"
            ]
          },
          "metadata": {
            "tags": []
          }
        },
        {
          "output_type": "display_data",
          "data": {
            "application/javascript": [
              "\n",
              "    async function download(id, filename, size) {\n",
              "      if (!google.colab.kernel.accessAllowed) {\n",
              "        return;\n",
              "      }\n",
              "      const div = document.createElement('div');\n",
              "      const label = document.createElement('label');\n",
              "      label.textContent = `Downloading \"${filename}\": `;\n",
              "      div.appendChild(label);\n",
              "      const progress = document.createElement('progress');\n",
              "      progress.max = size;\n",
              "      div.appendChild(progress);\n",
              "      document.body.appendChild(div);\n",
              "\n",
              "      const buffers = [];\n",
              "      let downloaded = 0;\n",
              "\n",
              "      const channel = await google.colab.kernel.comms.open(id);\n",
              "      // Send a message to notify the kernel that we're ready.\n",
              "      channel.send({})\n",
              "\n",
              "      for await (const message of channel.messages) {\n",
              "        // Send a message to notify the kernel that we're ready.\n",
              "        channel.send({})\n",
              "        if (message.buffers) {\n",
              "          for (const buffer of message.buffers) {\n",
              "            buffers.push(buffer);\n",
              "            downloaded += buffer.byteLength;\n",
              "            progress.value = downloaded;\n",
              "          }\n",
              "        }\n",
              "      }\n",
              "      const blob = new Blob(buffers, {type: 'application/binary'});\n",
              "      const a = document.createElement('a');\n",
              "      a.href = window.URL.createObjectURL(blob);\n",
              "      a.download = filename;\n",
              "      div.appendChild(a);\n",
              "      a.click();\n",
              "      div.remove();\n",
              "    }\n",
              "  "
            ],
            "text/plain": [
              "<IPython.core.display.Javascript object>"
            ]
          },
          "metadata": {
            "tags": []
          }
        },
        {
          "output_type": "display_data",
          "data": {
            "application/javascript": [
              "download(\"download_41bcd247-b5c8-4530-910a-1f44102c3566\", \"model_func.h5\", 51816)"
            ],
            "text/plain": [
              "<IPython.core.display.Javascript object>"
            ]
          },
          "metadata": {
            "tags": []
          }
        },
        {
          "output_type": "display_data",
          "data": {
            "application/javascript": [
              "\n",
              "    async function download(id, filename, size) {\n",
              "      if (!google.colab.kernel.accessAllowed) {\n",
              "        return;\n",
              "      }\n",
              "      const div = document.createElement('div');\n",
              "      const label = document.createElement('label');\n",
              "      label.textContent = `Downloading \"${filename}\": `;\n",
              "      div.appendChild(label);\n",
              "      const progress = document.createElement('progress');\n",
              "      progress.max = size;\n",
              "      div.appendChild(progress);\n",
              "      document.body.appendChild(div);\n",
              "\n",
              "      const buffers = [];\n",
              "      let downloaded = 0;\n",
              "\n",
              "      const channel = await google.colab.kernel.comms.open(id);\n",
              "      // Send a message to notify the kernel that we're ready.\n",
              "      channel.send({})\n",
              "\n",
              "      for await (const message of channel.messages) {\n",
              "        // Send a message to notify the kernel that we're ready.\n",
              "        channel.send({})\n",
              "        if (message.buffers) {\n",
              "          for (const buffer of message.buffers) {\n",
              "            buffers.push(buffer);\n",
              "            downloaded += buffer.byteLength;\n",
              "            progress.value = downloaded;\n",
              "          }\n",
              "        }\n",
              "      }\n",
              "      const blob = new Blob(buffers, {type: 'application/binary'});\n",
              "      const a = document.createElement('a');\n",
              "      a.href = window.URL.createObjectURL(blob);\n",
              "      a.download = filename;\n",
              "      div.appendChild(a);\n",
              "      a.click();\n",
              "      div.remove();\n",
              "    }\n",
              "  "
            ],
            "text/plain": [
              "<IPython.core.display.Javascript object>"
            ]
          },
          "metadata": {
            "tags": []
          }
        },
        {
          "output_type": "display_data",
          "data": {
            "application/javascript": [
              "download(\"download_85abeef8-2898-4b76-a549-ba1f3f0a6732\", \"model.png\", 10407)"
            ],
            "text/plain": [
              "<IPython.core.display.Javascript object>"
            ]
          },
          "metadata": {
            "tags": []
          }
        }
      ]
    },
    {
      "cell_type": "markdown",
      "metadata": {
        "id": "COelyRrZ5wm0"
      },
      "source": [
        "## Standalone Prediction"
      ]
    },
    {
      "cell_type": "code",
      "metadata": {
        "colab": {
          "base_uri": "https://localhost:8080/"
        },
        "id": "9c7AkZm0Es8u",
        "outputId": "44303957-dd5c-4241-dabe-9acbda5bc395"
      },
      "source": [
        "!pip install tabulate\n",
        "!curl -o label_classes.py https://raw.githubusercontent.com/Harrow-Enigma/TeamEngima-ProjectEco-AI/main/label_classes.py"
      ],
      "execution_count": 2,
      "outputs": [
        {
          "output_type": "stream",
          "text": [
            "Requirement already satisfied: tabulate in /usr/local/lib/python3.7/dist-packages (0.8.9)\n",
            "  % Total    % Received % Xferd  Average Speed   Time    Time     Time  Current\n",
            "                                 Dload  Upload   Total   Spent    Left  Speed\n",
            "100  1802  100  1802    0     0  10238      0 --:--:-- --:--:-- --:--:-- 10180\n"
          ],
          "name": "stdout"
        }
      ]
    },
    {
      "cell_type": "code",
      "metadata": {
        "id": "QlWkxHhGBRnh"
      },
      "source": [
        "import numpy as np\n",
        "import pandas as pd\n",
        "import tensorflow as tf\n",
        "import matplotlib as mpl\n",
        "import matplotlib.pyplot as plt\n",
        "from label_classes import Label, FloatLabel, IntClass, IntClassMap\n",
        "\n",
        "from datetime import timedelta, timezone\n",
        "from datetime import datetime as dt\n",
        "from tabulate import tabulate\n",
        "from tqdm import tqdm\n",
        "import pickle as pkl\n",
        "import requests\n",
        "import json\n",
        "import os"
      ],
      "execution_count": 3,
      "outputs": []
    },
    {
      "cell_type": "markdown",
      "metadata": {
        "id": "Dbiic9gkJf6G"
      },
      "source": [
        "### Pre-Requisite Objects"
      ]
    },
    {
      "cell_type": "code",
      "metadata": {
        "id": "nIvTs4z3BZrl"
      },
      "source": [
        "def standardize_on_params(arr, m, s):\n",
        "  return (arr - m)/s\n",
        "\n",
        "def destandardize(arr, m, s):\n",
        "  return arr * s + m\n",
        "\n",
        "def rescale_on_params(arr, arr_ofst, arr_range):\n",
        "  return (arr - arr_ofst) / arr_range\n",
        "\n",
        "def descale(arr, arr_ofst, arr_range):\n",
        "  return arr * arr_range + arr_ofst\n",
        "\n",
        "def normalize_on_params(arr, m, s, o, r):\n",
        "  arr_std = standardize_on_params(arr, m, s)\n",
        "  arr_norm = rescale_on_params(arr_std, o, r)\n",
        "  return arr_norm\n",
        "\n",
        "def denormalize(arr, m, s, o, r):\n",
        "  return destandardize(descale(arr, o, r), m, s)"
      ],
      "execution_count": 4,
      "outputs": []
    },
    {
      "cell_type": "code",
      "metadata": {
        "id": "dof4Wi9uDW6k"
      },
      "source": [
        "obj = pkl.load(open('beta_data_aux.data', 'rb'))"
      ],
      "execution_count": 5,
      "outputs": []
    },
    {
      "cell_type": "code",
      "metadata": {
        "id": "DLETwhrJDdIC"
      },
      "source": [
        "FEATURE_CLASSES = obj['features']['classes']\n",
        "features_mean = obj['features']['mean']\n",
        "features_stddv = obj['features']['std_dev']\n",
        "features_ofst = obj['features']['offset']\n",
        "features_range = obj['features']['range']\n",
        "\n",
        "LABEL_CLASSES = obj['labels']['classes']\n",
        "labels_mean = obj['labels']['mean']\n",
        "labels_stddv = obj['labels']['std_dev']\n",
        "labels_ofst = obj['labels']['offset']\n",
        "labels_range = obj['labels']['range']"
      ],
      "execution_count": 6,
      "outputs": []
    },
    {
      "cell_type": "code",
      "metadata": {
        "colab": {
          "base_uri": "https://localhost:8080/"
        },
        "id": "WVh_Vi3UEPqk",
        "outputId": "a5258c85-6153-4bca-d921-a01befb4e212"
      },
      "source": [
        "model = tf.keras.models.load_model('beta_model_func.h5')"
      ],
      "execution_count": 7,
      "outputs": [
        {
          "output_type": "stream",
          "text": [
            "WARNING:tensorflow:No training configuration found in the save file, so the model was *not* compiled. Compile it manually.\n"
          ],
          "name": "stdout"
        }
      ]
    },
    {
      "cell_type": "markdown",
      "metadata": {
        "id": "YssPXWxSJeQg"
      },
      "source": [
        "### Pre-Requisite Data"
      ]
    },
    {
      "cell_type": "code",
      "metadata": {
        "id": "c0ebq8CMJpQ3"
      },
      "source": [
        "def str2date(s):\n",
        "  return dt.strptime(s, '%Y-%m-%dT%H:%M:%S.%f%z')\n",
        "\n",
        "def dict2date(data_dict):\n",
        "  return str2date(data_dict['DATE'])\n",
        "\n",
        "def handle_exception(feat_class, timestep_data):\n",
        "  try:\n",
        "    _val = timestep_data[feat_class.key]\n",
        "    if _val is not None:\n",
        "      return feat_class.fwd_call(_val)\n",
        "    return feat_class.fallback\n",
        "  except:\n",
        "    return feat_class.fallback\n",
        "\n",
        "beta_api_url = 'https://dev-test.projecteco.ml/api/v1/rest/output/forms/'\n",
        "response = requests.get(beta_api_url)\n",
        "json_data = response.json()\n",
        "json_data = sorted(json_data, key = dict2date)\n",
        "\n",
        "for k in range(len(json_data)):\n",
        "  try:\n",
        "    _ = json_data[k]['localpollutiondata']\n",
        "    _has_key = True\n",
        "  except:\n",
        "    print('Error: No `localpollutiondata` key')\n",
        "    _has_key = False\n",
        "  \n",
        "  if _has_key:\n",
        "    for pol_key in list(json_data[k]['localpollutiondata']\\\n",
        "                        ['data'].keys()):\n",
        "      json_data[k][pol_key] = json_data[k]['localpollutiondata']\\\n",
        "                                       ['data'][pol_key]['v']\n",
        "    json_data[k].pop('localpollutiondata')\n",
        "  \n",
        "server_features = []\n",
        "server_labels = []\n",
        "\n",
        "for t in json_data:\n",
        "  server_features.append([handle_exception(c, t)\n",
        "                          for c in FEATURE_CLASSES])\n",
        "  server_labels.append([handle_exception(c, t)\n",
        "                        for c in LABEL_CLASSES])\n",
        "\n",
        "server_features = np.array(server_features, np.float32)\n",
        "server_labels = np.array(server_labels, np.float32)"
      ],
      "execution_count": 8,
      "outputs": []
    },
    {
      "cell_type": "markdown",
      "metadata": {
        "id": "GPaIKlPvJh13"
      },
      "source": [
        "### Visualization Code"
      ]
    },
    {
      "cell_type": "code",
      "metadata": {
        "id": "D8cO53ZxEhMK"
      },
      "source": [
        "def visualize_inputs(inps, headers=('Input name', 'Input value')):\n",
        "  data_arr = [[c.name, c.fwd_call(val)] for c, val in zip(FEATURE_CLASSES, inps)]\n",
        "  print(tabulate(data_arr, headers=headers))\n",
        "\n",
        "def visualize_features(feat, headers=('Feature name', 'Feature value')):\n",
        "  data_arr = [[c.name, val] for c, val in zip(FEATURE_CLASSES, feat)]\n",
        "  print(tabulate(data_arr, headers=headers))\n",
        "\n",
        "def visualize_preds(preds, headers=('Prediction name', 'Prediction value')):\n",
        "  data_arr = [[c.name, c.rev_call(val)] for c, val in zip(LABEL_CLASSES, preds)]\n",
        "  print(tabulate(data_arr, headers))"
      ],
      "execution_count": 9,
      "outputs": []
    },
    {
      "cell_type": "code",
      "metadata": {
        "id": "6m1nsFV_EX9u"
      },
      "source": [
        "def preproc(inps):\n",
        "  feats = np.array([[c.fwd_call(val) for c, val in zip(FEATURE_CLASSES, entry)]\n",
        "                   for entry in inps])\n",
        "  feats_norm = normalize_on_params(feats, features_mean, features_stddv, \n",
        "                                   features_ofst, features_range)\n",
        "  return feats_norm\n",
        "\n",
        "def denorm_preds(preds_norm):\n",
        "  return denormalize(preds_norm, labels_mean, labels_stddv,\n",
        "                     labels_ofst, labels_range)\n",
        "\n",
        "def visualize(inps, see_feats=False):\n",
        "  feats_norm = preproc(inps)\n",
        "  preds_norm = model.predict(feats_norm)\n",
        "  preds = denormalize(preds_norm, labels_mean, labels_stddv,\n",
        "                      labels_ofst, labels_range)\n",
        "  \n",
        "  for e, (i, f, p) in enumerate(zip(inps, feats_norm, preds)):\n",
        "    print('Visualizing input {}'.format(e))\n",
        "    print()\n",
        "    visualize_inputs(i)\n",
        "    print()\n",
        "    if see_feats:\n",
        "      visualize_features(f)\n",
        "      print()\n",
        "    visualize_preds(p)\n",
        "    print('\\n=====================================================================\\n\\n')\n",
        "\n",
        "def compare_vis(inps, labs, see_feats=False):\n",
        "  feats_norm = preproc(inps)\n",
        "  preds_norm = model.predict(feats_norm)\n",
        "  preds = denorm_preds(preds_norm)\n",
        "  \n",
        "  for e, (i, f, p, g) in enumerate(zip(inps, feats_norm, preds, labs)):\n",
        "    print('Visualizing input {}'.format(e))\n",
        "    print()\n",
        "    visualize_inputs(i)\n",
        "    print()\n",
        "    if see_feats:\n",
        "      visualize_features(f)\n",
        "      print()\n",
        "    visualize_preds(p, headers=(\"Prediction Name\", \"Model Output\"))\n",
        "    print()\n",
        "    visualize_preds(g, headers=(\"Prediction Name\", \"Ground Truth\"))\n",
        "    print('\\n==================================================================\\n\\n')"
      ],
      "execution_count": 10,
      "outputs": []
    },
    {
      "cell_type": "code",
      "metadata": {
        "id": "_Ve_9S_RNhIa"
      },
      "source": [
        "def locate_label_by_name(_name, classes):\n",
        "  for e, i in enumerate(classes):\n",
        "    if i.name == _name:\n",
        "      return e\n",
        "\n",
        "def replace_in_arr(arr, idx, newval):\n",
        "  ret = arr.copy()\n",
        "  ret[idx] = newval\n",
        "  return ret\n",
        "\n",
        "def makegraph(x, y, xlab='', ylab='', title=''):\n",
        "  plt.figure(figsize=(8, 5), dpi=150)\n",
        "  plt.plot(x, y)\n",
        "  plt.xlabel(xlab)\n",
        "  plt.ylabel(ylab)\n",
        "  plt.title(title)\n",
        "  plt.show()\n",
        "\n",
        "def autorange(featurename, sub_d=100):\n",
        "  feats = server_features[:, locate_label_by_name(featurename,\n",
        "                                                  FEATURE_CLASSES)]\n",
        "  step = (feats.max() - feats.min()) / (sub_d - 1)\n",
        "  return np.arange(feats.min(), feats.max() + step, step)\n",
        "\n",
        "def plot_relation_by_name(featurename,\n",
        "                          labelname,\n",
        "                          _range,\n",
        "                          _vars=server_features[0]):\n",
        "  _vars = server_features[0]\n",
        "  _feat_loc = locate_label_by_name(featurename, FEATURE_CLASSES)\n",
        "  _lab_loc = locate_label_by_name(labelname, LABEL_CLASSES)\n",
        "\n",
        "  _x = [replace_in_arr(_vars, _feat_loc, i) for i in _range]\n",
        "  _y = denorm_preds(model.predict(preproc(_x)))[:, _lab_loc]\n",
        "\n",
        "  makegraph(_range, _y, featurename, labelname,\n",
        "            'How {} responses vary with {} levels'.format(labelname,\n",
        "                                                          featurename))\n",
        "\n",
        "def plot_relation_from_data(featurename,\n",
        "                            labelname):\n",
        "  _x = server_features[:, locate_label_by_name(featurename, FEATURE_CLASSES)]\n",
        "  _y = server_labels[:, locate_label_by_name(labelname, LABEL_CLASSES)]\n",
        "\n",
        "  _idx = np.argsort(_x)\n",
        "  _x = _x[_idx]\n",
        "  _y = _y[_idx]\n",
        "\n",
        "  makegraph(_x, _y, featurename, labelname,\n",
        "            'How {} responses vary with {} levels'.format(labelname,\n",
        "                                                          featurename))"
      ],
      "execution_count": 11,
      "outputs": []
    },
    {
      "cell_type": "markdown",
      "metadata": {
        "id": "3oTYbTwFJkHb"
      },
      "source": [
        "### Visualization"
      ]
    },
    {
      "cell_type": "code",
      "metadata": {
        "colab": {
          "base_uri": "https://localhost:8080/"
        },
        "id": "jGzv7dJQI7Za",
        "outputId": "72c5b538-927e-442f-cf6d-0f85063cffe2"
      },
      "source": [
        "visualize(server_features)"
      ],
      "execution_count": 12,
      "outputs": [
        {
          "output_type": "stream",
          "text": [
            "Visualizing input 0\n",
            "\n",
            "Input name      Input value\n",
            "------------  -------------\n",
            "h                      77.5\n",
            "no2                    34.3\n",
            "o3                     15.8\n",
            "p                     997.1\n",
            "pm10                   35\n",
            "pm25                   79\n",
            "t                      31.6\n",
            "w                       1.5\n",
            "wg                      6\n",
            "\n",
            "Prediction name                                 Prediction value\n",
            "----------------------------------------------  ------------------\n",
            "Q1 (General feeling)                            2\n",
            "Q2 (Concentration)                              4\n",
            "Q3 (Work Stress)                                4\n",
            "Q4 (Dizziness, headaches, shortness of breath)  no\n",
            "Q5 (Allergic responses)                         no\n",
            "\n",
            "=====================================================================\n",
            "\n",
            "\n",
            "Visualizing input 1\n",
            "\n",
            "Input name      Input value\n",
            "------------  -------------\n",
            "h                      87\n",
            "no2                    22\n",
            "o3                      2\n",
            "p                    1015\n",
            "pm10                   10\n",
            "pm25                   13\n",
            "t                      14\n",
            "w                       1.5\n",
            "wg                     17.4\n",
            "\n",
            "Prediction name                                 Prediction value\n",
            "----------------------------------------------  ------------------\n",
            "Q1 (General feeling)                            4\n",
            "Q2 (Concentration)                              3\n",
            "Q3 (Work Stress)                                4\n",
            "Q4 (Dizziness, headaches, shortness of breath)  no\n",
            "Q5 (Allergic responses)                         no\n",
            "\n",
            "=====================================================================\n",
            "\n",
            "\n",
            "Visualizing input 2\n",
            "\n",
            "Input name      Input value\n",
            "------------  -------------\n",
            "h                      75\n",
            "no2                     7.8\n",
            "o3                     25.2\n",
            "p                    1013.7\n",
            "pm10                   10\n",
            "pm25                   23\n",
            "t                      14.1\n",
            "w                       0.2\n",
            "wg                      3\n",
            "\n",
            "Prediction name                                 Prediction value\n",
            "----------------------------------------------  ------------------\n",
            "Q1 (General feeling)                            3\n",
            "Q2 (Concentration)                              4\n",
            "Q3 (Work Stress)                                2\n",
            "Q4 (Dizziness, headaches, shortness of breath)  no\n",
            "Q5 (Allergic responses)                         no\n",
            "\n",
            "=====================================================================\n",
            "\n",
            "\n",
            "Visualizing input 3\n",
            "\n",
            "Input name      Input value\n",
            "------------  -------------\n",
            "h                      86.4\n",
            "no2                    16\n",
            "o3                     18.3\n",
            "p                     997.3\n",
            "pm10                   18\n",
            "pm25                   30\n",
            "t                      28.8\n",
            "w                       1.4\n",
            "wg                      3.8\n",
            "\n",
            "Prediction name                                 Prediction value\n",
            "----------------------------------------------  ------------------\n",
            "Q1 (General feeling)                            5\n",
            "Q2 (Concentration)                              5\n",
            "Q3 (Work Stress)                                1\n",
            "Q4 (Dizziness, headaches, shortness of breath)  no\n",
            "Q5 (Allergic responses)                         no\n",
            "\n",
            "=====================================================================\n",
            "\n",
            "\n",
            "Visualizing input 4\n",
            "\n",
            "Input name      Input value\n",
            "------------  -------------\n",
            "h                      67\n",
            "no2                     5.2\n",
            "o3                     26.9\n",
            "p                    1014.5\n",
            "pm10                    9\n",
            "pm25                   17\n",
            "t                      16\n",
            "w                       1.2\n",
            "wg                      4.6\n",
            "\n",
            "Prediction name                                 Prediction value\n",
            "----------------------------------------------  ------------------\n",
            "Q1 (General feeling)                            4\n",
            "Q2 (Concentration)                              3\n",
            "Q3 (Work Stress)                                4\n",
            "Q4 (Dizziness, headaches, shortness of breath)  no\n",
            "Q5 (Allergic responses)                         no\n",
            "\n",
            "=====================================================================\n",
            "\n",
            "\n",
            "Visualizing input 5\n",
            "\n",
            "Input name      Input value\n",
            "------------  -------------\n",
            "h                      90\n",
            "no2                    59.2\n",
            "o3                      2.3\n",
            "p                     995.1\n",
            "pm10                   38\n",
            "pm25                   91\n",
            "t                      28.3\n",
            "w                       0.2\n",
            "wg                      1.6\n",
            "\n",
            "Prediction name                                 Prediction value\n",
            "----------------------------------------------  ------------------\n",
            "Q1 (General feeling)                            2\n",
            "Q2 (Concentration)                              3\n",
            "Q3 (Work Stress)                                3\n",
            "Q4 (Dizziness, headaches, shortness of breath)  yes\n",
            "Q5 (Allergic responses)                         yes\n",
            "\n",
            "=====================================================================\n",
            "\n",
            "\n",
            "Visualizing input 6\n",
            "\n",
            "Input name      Input value\n",
            "------------  -------------\n",
            "h                      60.2\n",
            "no2                     2.9\n",
            "o3                     35.6\n",
            "p                    1099.3\n",
            "pm10                    8\n",
            "pm25                   21\n",
            "t                      21.5\n",
            "w                       1\n",
            "wg                      2.2\n",
            "\n",
            "Prediction name                                 Prediction value\n",
            "----------------------------------------------  ------------------\n",
            "Q1 (General feeling)                            3\n",
            "Q2 (Concentration)                              2\n",
            "Q3 (Work Stress)                                3\n",
            "Q4 (Dizziness, headaches, shortness of breath)  no\n",
            "Q5 (Allergic responses)                         no\n",
            "\n",
            "=====================================================================\n",
            "\n",
            "\n",
            "Visualizing input 7\n",
            "\n",
            "Input name      Input value\n",
            "------------  -------------\n",
            "h                     48\n",
            "no2                    0.9\n",
            "o3                    35.1\n",
            "p                   1016.1\n",
            "pm10                   0\n",
            "pm25                   0\n",
            "t                     19.55\n",
            "w                      2.85\n",
            "wg                     1.5\n",
            "\n",
            "Prediction name                                 Prediction value\n",
            "----------------------------------------------  ------------------\n",
            "Q1 (General feeling)                            2\n",
            "Q2 (Concentration)                              2\n",
            "Q3 (Work Stress)                                3\n",
            "Q4 (Dizziness, headaches, shortness of breath)  yes\n",
            "Q5 (Allergic responses)                         no\n",
            "\n",
            "=====================================================================\n",
            "\n",
            "\n",
            "Visualizing input 8\n",
            "\n",
            "Input name      Input value\n",
            "------------  -------------\n",
            "h                      78\n",
            "no2                     6.2\n",
            "o3                     13.2\n",
            "p                    1010\n",
            "pm10                   10\n",
            "pm25                   27\n",
            "t                      23\n",
            "w                       3.6\n",
            "wg                     10.8\n",
            "\n",
            "Prediction name                                 Prediction value\n",
            "----------------------------------------------  ------------------\n",
            "Q1 (General feeling)                            4\n",
            "Q2 (Concentration)                              4\n",
            "Q3 (Work Stress)                                2\n",
            "Q4 (Dizziness, headaches, shortness of breath)  no\n",
            "Q5 (Allergic responses)                         no\n",
            "\n",
            "=====================================================================\n",
            "\n",
            "\n",
            "Visualizing input 9\n",
            "\n",
            "Input name      Input value\n",
            "------------  -------------\n",
            "h                      88\n",
            "no2                    33.7\n",
            "o3                      0.9\n",
            "p                    1006\n",
            "pm10                    9\n",
            "pm25                   31\n",
            "t                      27.7\n",
            "w                       9\n",
            "wg                      0\n",
            "\n",
            "Prediction name                                 Prediction value\n",
            "----------------------------------------------  ------------------\n",
            "Q1 (General feeling)                            3\n",
            "Q2 (Concentration)                              3\n",
            "Q3 (Work Stress)                                4\n",
            "Q4 (Dizziness, headaches, shortness of breath)  yes\n",
            "Q5 (Allergic responses)                         yes\n",
            "\n",
            "=====================================================================\n",
            "\n",
            "\n",
            "Visualizing input 10\n",
            "\n",
            "Input name      Input value\n",
            "------------  -------------\n",
            "h                      78\n",
            "no2                     1\n",
            "o3                     38.6\n",
            "p                    1016.2\n",
            "pm10                   14\n",
            "pm25                    0\n",
            "t                      25\n",
            "w                       3.5\n",
            "wg                      5.5\n",
            "\n",
            "Prediction name                                 Prediction value\n",
            "----------------------------------------------  ------------------\n",
            "Q1 (General feeling)                            1\n",
            "Q2 (Concentration)                              1\n",
            "Q3 (Work Stress)                                3\n",
            "Q4 (Dizziness, headaches, shortness of breath)  yes\n",
            "Q5 (Allergic responses)                         yes\n",
            "\n",
            "=====================================================================\n",
            "\n",
            "\n",
            "Visualizing input 11\n",
            "\n",
            "Input name      Input value\n",
            "------------  -------------\n",
            "h                      78\n",
            "no2                     3.7\n",
            "o3                     24.5\n",
            "p                    1009\n",
            "pm10                   19\n",
            "pm25                   13\n",
            "t                      22\n",
            "w                       2\n",
            "wg                      0\n",
            "\n",
            "Prediction name                                 Prediction value\n",
            "----------------------------------------------  ------------------\n",
            "Q1 (General feeling)                            4\n",
            "Q2 (Concentration)                              4\n",
            "Q3 (Work Stress)                                3\n",
            "Q4 (Dizziness, headaches, shortness of breath)  no\n",
            "Q5 (Allergic responses)                         yes\n",
            "\n",
            "=====================================================================\n",
            "\n",
            "\n",
            "Visualizing input 12\n",
            "\n",
            "Input name      Input value\n",
            "------------  -------------\n",
            "h                      59\n",
            "no2                    14.3\n",
            "o3                      0\n",
            "p                    1008\n",
            "pm10                    7\n",
            "pm25                    0\n",
            "t                      25\n",
            "w                       0.2\n",
            "wg                      0.5\n",
            "\n",
            "Prediction name                                 Prediction value\n",
            "----------------------------------------------  ------------------\n",
            "Q1 (General feeling)                            4\n",
            "Q2 (Concentration)                              3\n",
            "Q3 (Work Stress)                                5\n",
            "Q4 (Dizziness, headaches, shortness of breath)  yes\n",
            "Q5 (Allergic responses)                         no\n",
            "\n",
            "=====================================================================\n",
            "\n",
            "\n",
            "Visualizing input 13\n",
            "\n",
            "Input name      Input value\n",
            "------------  -------------\n",
            "h                      78.3\n",
            "no2                     7.8\n",
            "o3                      0\n",
            "p                    1017.6\n",
            "pm10                   10\n",
            "pm25                   30\n",
            "t                      15.5\n",
            "w                       0.5\n",
            "wg                      0.6\n",
            "\n",
            "Prediction name                                 Prediction value\n",
            "----------------------------------------------  ------------------\n",
            "Q1 (General feeling)                            3\n",
            "Q2 (Concentration)                              1\n",
            "Q3 (Work Stress)                                4\n",
            "Q4 (Dizziness, headaches, shortness of breath)  yes\n",
            "Q5 (Allergic responses)                         no\n",
            "\n",
            "=====================================================================\n",
            "\n",
            "\n",
            "Visualizing input 14\n",
            "\n",
            "Input name      Input value\n",
            "------------  -------------\n",
            "h                      83.5\n",
            "no2                     7.7\n",
            "o3                      5\n",
            "p                    1010.5\n",
            "pm10                   11\n",
            "pm25                   46\n",
            "t                      13.5\n",
            "w                       0.6\n",
            "wg                      2.1\n",
            "\n",
            "Prediction name                                 Prediction value\n",
            "----------------------------------------------  ------------------\n",
            "Q1 (General feeling)                            4\n",
            "Q2 (Concentration)                              3\n",
            "Q3 (Work Stress)                                1\n",
            "Q4 (Dizziness, headaches, shortness of breath)  no\n",
            "Q5 (Allergic responses)                         no\n",
            "\n",
            "=====================================================================\n",
            "\n",
            "\n",
            "Visualizing input 15\n",
            "\n",
            "Input name      Input value\n",
            "------------  -------------\n",
            "h                      93.6\n",
            "no2                    39.3\n",
            "o3                      8.9\n",
            "p                     997.6\n",
            "pm10                   30\n",
            "pm25                   86\n",
            "t                      28.3\n",
            "w                       0.4\n",
            "wg                      1.6\n",
            "\n",
            "Prediction name                                 Prediction value\n",
            "----------------------------------------------  ------------------\n",
            "Q1 (General feeling)                            3\n",
            "Q2 (Concentration)                              2\n",
            "Q3 (Work Stress)                                2\n",
            "Q4 (Dizziness, headaches, shortness of breath)  no\n",
            "Q5 (Allergic responses)                         no\n",
            "\n",
            "=====================================================================\n",
            "\n",
            "\n",
            "Visualizing input 16\n",
            "\n",
            "Input name      Input value\n",
            "------------  -------------\n",
            "h                      92.6\n",
            "no2                    40.6\n",
            "o3                      4.3\n",
            "p                     997.1\n",
            "pm10                   39\n",
            "pm25                  100\n",
            "t                      28.3\n",
            "w                       0.2\n",
            "wg                      1.4\n",
            "\n",
            "Prediction name                                 Prediction value\n",
            "----------------------------------------------  ------------------\n",
            "Q1 (General feeling)                            4\n",
            "Q2 (Concentration)                              3\n",
            "Q3 (Work Stress)                                3\n",
            "Q4 (Dizziness, headaches, shortness of breath)  no\n",
            "Q5 (Allergic responses)                         no\n",
            "\n",
            "=====================================================================\n",
            "\n",
            "\n",
            "Visualizing input 17\n",
            "\n",
            "Input name      Input value\n",
            "------------  -------------\n",
            "h                      79\n",
            "no2                    25.4\n",
            "o3                     27.2\n",
            "p                     996\n",
            "pm10                   28\n",
            "pm25                   66\n",
            "t                      30\n",
            "w                      11\n",
            "wg                      0\n",
            "\n",
            "Prediction name                                 Prediction value\n",
            "----------------------------------------------  ------------------\n",
            "Q1 (General feeling)                            3\n",
            "Q2 (Concentration)                              3\n",
            "Q3 (Work Stress)                                3\n",
            "Q4 (Dizziness, headaches, shortness of breath)  yes\n",
            "Q5 (Allergic responses)                         yes\n",
            "\n",
            "=====================================================================\n",
            "\n",
            "\n",
            "Visualizing input 18\n",
            "\n",
            "Input name      Input value\n",
            "------------  -------------\n",
            "h                      89.5\n",
            "no2                     1.9\n",
            "o3                     13\n",
            "p                     999\n",
            "pm10                   10\n",
            "pm25                   21\n",
            "t                      13.6\n",
            "w                       1\n",
            "wg                      8\n",
            "\n",
            "Prediction name                                 Prediction value\n",
            "----------------------------------------------  ------------------\n",
            "Q1 (General feeling)                            3\n",
            "Q2 (Concentration)                              4\n",
            "Q3 (Work Stress)                                2\n",
            "Q4 (Dizziness, headaches, shortness of breath)  no\n",
            "Q5 (Allergic responses)                         no\n",
            "\n",
            "=====================================================================\n",
            "\n",
            "\n",
            "Visualizing input 19\n",
            "\n",
            "Input name      Input value\n",
            "------------  -------------\n",
            "h                      88.4\n",
            "no2                    28.5\n",
            "o3                     10.9\n",
            "p                    1003.2\n",
            "pm10                   46\n",
            "pm25                  100\n",
            "t                      28.3\n",
            "w                       0.6\n",
            "wg                      2.4\n",
            "\n",
            "Prediction name                                 Prediction value\n",
            "----------------------------------------------  ------------------\n",
            "Q1 (General feeling)                            3\n",
            "Q2 (Concentration)                              4\n",
            "Q3 (Work Stress)                                4\n",
            "Q4 (Dizziness, headaches, shortness of breath)  no\n",
            "Q5 (Allergic responses)                         no\n",
            "\n",
            "=====================================================================\n",
            "\n",
            "\n"
          ],
          "name": "stdout"
        }
      ]
    },
    {
      "cell_type": "code",
      "metadata": {
        "colab": {
          "base_uri": "https://localhost:8080/"
        },
        "id": "bbaVcRCmLLx1",
        "outputId": "aa3aedc6-f012-4b28-d63d-87fad8f7b06f"
      },
      "source": [
        "compare_vis(server_features, server_labels)"
      ],
      "execution_count": 13,
      "outputs": [
        {
          "output_type": "stream",
          "text": [
            "Visualizing input 0\n",
            "\n",
            "Input name      Input value\n",
            "------------  -------------\n",
            "h                      77.5\n",
            "no2                    34.3\n",
            "o3                     15.8\n",
            "p                     997.1\n",
            "pm10                   35\n",
            "pm25                   79\n",
            "t                      31.6\n",
            "w                       1.5\n",
            "wg                      6\n",
            "\n",
            "Prediction Name                                 Model Output\n",
            "----------------------------------------------  --------------\n",
            "Q1 (General feeling)                            2\n",
            "Q2 (Concentration)                              4\n",
            "Q3 (Work Stress)                                4\n",
            "Q4 (Dizziness, headaches, shortness of breath)  no\n",
            "Q5 (Allergic responses)                         no\n",
            "\n",
            "Prediction Name                                 Ground Truth\n",
            "----------------------------------------------  --------------\n",
            "Q1 (General feeling)                            2\n",
            "Q2 (Concentration)                              4\n",
            "Q3 (Work Stress)                                4\n",
            "Q4 (Dizziness, headaches, shortness of breath)  no\n",
            "Q5 (Allergic responses)                         no\n",
            "\n",
            "==================================================================\n",
            "\n",
            "\n",
            "Visualizing input 1\n",
            "\n",
            "Input name      Input value\n",
            "------------  -------------\n",
            "h                      87\n",
            "no2                    22\n",
            "o3                      2\n",
            "p                    1015\n",
            "pm10                   10\n",
            "pm25                   13\n",
            "t                      14\n",
            "w                       1.5\n",
            "wg                     17.4\n",
            "\n",
            "Prediction Name                                 Model Output\n",
            "----------------------------------------------  --------------\n",
            "Q1 (General feeling)                            4\n",
            "Q2 (Concentration)                              3\n",
            "Q3 (Work Stress)                                4\n",
            "Q4 (Dizziness, headaches, shortness of breath)  no\n",
            "Q5 (Allergic responses)                         no\n",
            "\n",
            "Prediction Name                                 Ground Truth\n",
            "----------------------------------------------  --------------\n",
            "Q1 (General feeling)                            4\n",
            "Q2 (Concentration)                              3\n",
            "Q3 (Work Stress)                                4\n",
            "Q4 (Dizziness, headaches, shortness of breath)  no\n",
            "Q5 (Allergic responses)                         no\n",
            "\n",
            "==================================================================\n",
            "\n",
            "\n",
            "Visualizing input 2\n",
            "\n",
            "Input name      Input value\n",
            "------------  -------------\n",
            "h                      75\n",
            "no2                     7.8\n",
            "o3                     25.2\n",
            "p                    1013.7\n",
            "pm10                   10\n",
            "pm25                   23\n",
            "t                      14.1\n",
            "w                       0.2\n",
            "wg                      3\n",
            "\n",
            "Prediction Name                                 Model Output\n",
            "----------------------------------------------  --------------\n",
            "Q1 (General feeling)                            3\n",
            "Q2 (Concentration)                              4\n",
            "Q3 (Work Stress)                                2\n",
            "Q4 (Dizziness, headaches, shortness of breath)  no\n",
            "Q5 (Allergic responses)                         no\n",
            "\n",
            "Prediction Name                                 Ground Truth\n",
            "----------------------------------------------  --------------\n",
            "Q1 (General feeling)                            3\n",
            "Q2 (Concentration)                              4\n",
            "Q3 (Work Stress)                                2\n",
            "Q4 (Dizziness, headaches, shortness of breath)  no\n",
            "Q5 (Allergic responses)                         no\n",
            "\n",
            "==================================================================\n",
            "\n",
            "\n",
            "Visualizing input 3\n",
            "\n",
            "Input name      Input value\n",
            "------------  -------------\n",
            "h                      86.4\n",
            "no2                    16\n",
            "o3                     18.3\n",
            "p                     997.3\n",
            "pm10                   18\n",
            "pm25                   30\n",
            "t                      28.8\n",
            "w                       1.4\n",
            "wg                      3.8\n",
            "\n",
            "Prediction Name                                 Model Output\n",
            "----------------------------------------------  --------------\n",
            "Q1 (General feeling)                            5\n",
            "Q2 (Concentration)                              5\n",
            "Q3 (Work Stress)                                1\n",
            "Q4 (Dizziness, headaches, shortness of breath)  no\n",
            "Q5 (Allergic responses)                         no\n",
            "\n",
            "Prediction Name                                 Ground Truth\n",
            "----------------------------------------------  --------------\n",
            "Q1 (General feeling)                            5\n",
            "Q2 (Concentration)                              5\n",
            "Q3 (Work Stress)                                1\n",
            "Q4 (Dizziness, headaches, shortness of breath)  no\n",
            "Q5 (Allergic responses)                         no\n",
            "\n",
            "==================================================================\n",
            "\n",
            "\n",
            "Visualizing input 4\n",
            "\n",
            "Input name      Input value\n",
            "------------  -------------\n",
            "h                      67\n",
            "no2                     5.2\n",
            "o3                     26.9\n",
            "p                    1014.5\n",
            "pm10                    9\n",
            "pm25                   17\n",
            "t                      16\n",
            "w                       1.2\n",
            "wg                      4.6\n",
            "\n",
            "Prediction Name                                 Model Output\n",
            "----------------------------------------------  --------------\n",
            "Q1 (General feeling)                            4\n",
            "Q2 (Concentration)                              3\n",
            "Q3 (Work Stress)                                4\n",
            "Q4 (Dizziness, headaches, shortness of breath)  no\n",
            "Q5 (Allergic responses)                         no\n",
            "\n",
            "Prediction Name                                 Ground Truth\n",
            "----------------------------------------------  --------------\n",
            "Q1 (General feeling)                            4\n",
            "Q2 (Concentration)                              3\n",
            "Q3 (Work Stress)                                4\n",
            "Q4 (Dizziness, headaches, shortness of breath)  no\n",
            "Q5 (Allergic responses)                         no\n",
            "\n",
            "==================================================================\n",
            "\n",
            "\n",
            "Visualizing input 5\n",
            "\n",
            "Input name      Input value\n",
            "------------  -------------\n",
            "h                      90\n",
            "no2                    59.2\n",
            "o3                      2.3\n",
            "p                     995.1\n",
            "pm10                   38\n",
            "pm25                   91\n",
            "t                      28.3\n",
            "w                       0.2\n",
            "wg                      1.6\n",
            "\n",
            "Prediction Name                                 Model Output\n",
            "----------------------------------------------  --------------\n",
            "Q1 (General feeling)                            2\n",
            "Q2 (Concentration)                              3\n",
            "Q3 (Work Stress)                                3\n",
            "Q4 (Dizziness, headaches, shortness of breath)  yes\n",
            "Q5 (Allergic responses)                         yes\n",
            "\n",
            "Prediction Name                                 Ground Truth\n",
            "----------------------------------------------  --------------\n",
            "Q1 (General feeling)                            2\n",
            "Q2 (Concentration)                              3\n",
            "Q3 (Work Stress)                                3\n",
            "Q4 (Dizziness, headaches, shortness of breath)  yes\n",
            "Q5 (Allergic responses)                         yes\n",
            "\n",
            "==================================================================\n",
            "\n",
            "\n",
            "Visualizing input 6\n",
            "\n",
            "Input name      Input value\n",
            "------------  -------------\n",
            "h                      60.2\n",
            "no2                     2.9\n",
            "o3                     35.6\n",
            "p                    1099.3\n",
            "pm10                    8\n",
            "pm25                   21\n",
            "t                      21.5\n",
            "w                       1\n",
            "wg                      2.2\n",
            "\n",
            "Prediction Name                                 Model Output\n",
            "----------------------------------------------  --------------\n",
            "Q1 (General feeling)                            3\n",
            "Q2 (Concentration)                              2\n",
            "Q3 (Work Stress)                                3\n",
            "Q4 (Dizziness, headaches, shortness of breath)  no\n",
            "Q5 (Allergic responses)                         no\n",
            "\n",
            "Prediction Name                                 Ground Truth\n",
            "----------------------------------------------  --------------\n",
            "Q1 (General feeling)                            3\n",
            "Q2 (Concentration)                              2\n",
            "Q3 (Work Stress)                                3\n",
            "Q4 (Dizziness, headaches, shortness of breath)  no\n",
            "Q5 (Allergic responses)                         no\n",
            "\n",
            "==================================================================\n",
            "\n",
            "\n",
            "Visualizing input 7\n",
            "\n",
            "Input name      Input value\n",
            "------------  -------------\n",
            "h                     48\n",
            "no2                    0.9\n",
            "o3                    35.1\n",
            "p                   1016.1\n",
            "pm10                   0\n",
            "pm25                   0\n",
            "t                     19.55\n",
            "w                      2.85\n",
            "wg                     1.5\n",
            "\n",
            "Prediction Name                                 Model Output\n",
            "----------------------------------------------  --------------\n",
            "Q1 (General feeling)                            2\n",
            "Q2 (Concentration)                              2\n",
            "Q3 (Work Stress)                                3\n",
            "Q4 (Dizziness, headaches, shortness of breath)  yes\n",
            "Q5 (Allergic responses)                         no\n",
            "\n",
            "Prediction Name                                 Ground Truth\n",
            "----------------------------------------------  --------------\n",
            "Q1 (General feeling)                            2\n",
            "Q2 (Concentration)                              2\n",
            "Q3 (Work Stress)                                3\n",
            "Q4 (Dizziness, headaches, shortness of breath)  yes\n",
            "Q5 (Allergic responses)                         no\n",
            "\n",
            "==================================================================\n",
            "\n",
            "\n",
            "Visualizing input 8\n",
            "\n",
            "Input name      Input value\n",
            "------------  -------------\n",
            "h                      78\n",
            "no2                     6.2\n",
            "o3                     13.2\n",
            "p                    1010\n",
            "pm10                   10\n",
            "pm25                   27\n",
            "t                      23\n",
            "w                       3.6\n",
            "wg                     10.8\n",
            "\n",
            "Prediction Name                                 Model Output\n",
            "----------------------------------------------  --------------\n",
            "Q1 (General feeling)                            4\n",
            "Q2 (Concentration)                              4\n",
            "Q3 (Work Stress)                                2\n",
            "Q4 (Dizziness, headaches, shortness of breath)  no\n",
            "Q5 (Allergic responses)                         no\n",
            "\n",
            "Prediction Name                                 Ground Truth\n",
            "----------------------------------------------  --------------\n",
            "Q1 (General feeling)                            4\n",
            "Q2 (Concentration)                              4\n",
            "Q3 (Work Stress)                                2\n",
            "Q4 (Dizziness, headaches, shortness of breath)  no\n",
            "Q5 (Allergic responses)                         no\n",
            "\n",
            "==================================================================\n",
            "\n",
            "\n",
            "Visualizing input 9\n",
            "\n",
            "Input name      Input value\n",
            "------------  -------------\n",
            "h                      88\n",
            "no2                    33.7\n",
            "o3                      0.9\n",
            "p                    1006\n",
            "pm10                    9\n",
            "pm25                   31\n",
            "t                      27.7\n",
            "w                       9\n",
            "wg                      0\n",
            "\n",
            "Prediction Name                                 Model Output\n",
            "----------------------------------------------  --------------\n",
            "Q1 (General feeling)                            3\n",
            "Q2 (Concentration)                              3\n",
            "Q3 (Work Stress)                                4\n",
            "Q4 (Dizziness, headaches, shortness of breath)  yes\n",
            "Q5 (Allergic responses)                         yes\n",
            "\n",
            "Prediction Name                                 Ground Truth\n",
            "----------------------------------------------  --------------\n",
            "Q1 (General feeling)                            3\n",
            "Q2 (Concentration)                              3\n",
            "Q3 (Work Stress)                                4\n",
            "Q4 (Dizziness, headaches, shortness of breath)  yes\n",
            "Q5 (Allergic responses)                         yes\n",
            "\n",
            "==================================================================\n",
            "\n",
            "\n",
            "Visualizing input 10\n",
            "\n",
            "Input name      Input value\n",
            "------------  -------------\n",
            "h                      78\n",
            "no2                     1\n",
            "o3                     38.6\n",
            "p                    1016.2\n",
            "pm10                   14\n",
            "pm25                    0\n",
            "t                      25\n",
            "w                       3.5\n",
            "wg                      5.5\n",
            "\n",
            "Prediction Name                                 Model Output\n",
            "----------------------------------------------  --------------\n",
            "Q1 (General feeling)                            1\n",
            "Q2 (Concentration)                              1\n",
            "Q3 (Work Stress)                                3\n",
            "Q4 (Dizziness, headaches, shortness of breath)  yes\n",
            "Q5 (Allergic responses)                         yes\n",
            "\n",
            "Prediction Name                                 Ground Truth\n",
            "----------------------------------------------  --------------\n",
            "Q1 (General feeling)                            1\n",
            "Q2 (Concentration)                              1\n",
            "Q3 (Work Stress)                                3\n",
            "Q4 (Dizziness, headaches, shortness of breath)  yes\n",
            "Q5 (Allergic responses)                         yes\n",
            "\n",
            "==================================================================\n",
            "\n",
            "\n",
            "Visualizing input 11\n",
            "\n",
            "Input name      Input value\n",
            "------------  -------------\n",
            "h                      78\n",
            "no2                     3.7\n",
            "o3                     24.5\n",
            "p                    1009\n",
            "pm10                   19\n",
            "pm25                   13\n",
            "t                      22\n",
            "w                       2\n",
            "wg                      0\n",
            "\n",
            "Prediction Name                                 Model Output\n",
            "----------------------------------------------  --------------\n",
            "Q1 (General feeling)                            4\n",
            "Q2 (Concentration)                              4\n",
            "Q3 (Work Stress)                                3\n",
            "Q4 (Dizziness, headaches, shortness of breath)  no\n",
            "Q5 (Allergic responses)                         yes\n",
            "\n",
            "Prediction Name                                 Ground Truth\n",
            "----------------------------------------------  --------------\n",
            "Q1 (General feeling)                            4\n",
            "Q2 (Concentration)                              4\n",
            "Q3 (Work Stress)                                3\n",
            "Q4 (Dizziness, headaches, shortness of breath)  no\n",
            "Q5 (Allergic responses)                         yes\n",
            "\n",
            "==================================================================\n",
            "\n",
            "\n",
            "Visualizing input 12\n",
            "\n",
            "Input name      Input value\n",
            "------------  -------------\n",
            "h                      59\n",
            "no2                    14.3\n",
            "o3                      0\n",
            "p                    1008\n",
            "pm10                    7\n",
            "pm25                    0\n",
            "t                      25\n",
            "w                       0.2\n",
            "wg                      0.5\n",
            "\n",
            "Prediction Name                                 Model Output\n",
            "----------------------------------------------  --------------\n",
            "Q1 (General feeling)                            4\n",
            "Q2 (Concentration)                              3\n",
            "Q3 (Work Stress)                                5\n",
            "Q4 (Dizziness, headaches, shortness of breath)  yes\n",
            "Q5 (Allergic responses)                         no\n",
            "\n",
            "Prediction Name                                 Ground Truth\n",
            "----------------------------------------------  --------------\n",
            "Q1 (General feeling)                            4\n",
            "Q2 (Concentration)                              3\n",
            "Q3 (Work Stress)                                5\n",
            "Q4 (Dizziness, headaches, shortness of breath)  yes\n",
            "Q5 (Allergic responses)                         no\n",
            "\n",
            "==================================================================\n",
            "\n",
            "\n",
            "Visualizing input 13\n",
            "\n",
            "Input name      Input value\n",
            "------------  -------------\n",
            "h                      78.3\n",
            "no2                     7.8\n",
            "o3                      0\n",
            "p                    1017.6\n",
            "pm10                   10\n",
            "pm25                   30\n",
            "t                      15.5\n",
            "w                       0.5\n",
            "wg                      0.6\n",
            "\n",
            "Prediction Name                                 Model Output\n",
            "----------------------------------------------  --------------\n",
            "Q1 (General feeling)                            3\n",
            "Q2 (Concentration)                              1\n",
            "Q3 (Work Stress)                                4\n",
            "Q4 (Dizziness, headaches, shortness of breath)  yes\n",
            "Q5 (Allergic responses)                         no\n",
            "\n",
            "Prediction Name                                 Ground Truth\n",
            "----------------------------------------------  --------------\n",
            "Q1 (General feeling)                            3\n",
            "Q2 (Concentration)                              1\n",
            "Q3 (Work Stress)                                4\n",
            "Q4 (Dizziness, headaches, shortness of breath)  yes\n",
            "Q5 (Allergic responses)                         no\n",
            "\n",
            "==================================================================\n",
            "\n",
            "\n",
            "Visualizing input 14\n",
            "\n",
            "Input name      Input value\n",
            "------------  -------------\n",
            "h                      83.5\n",
            "no2                     7.7\n",
            "o3                      5\n",
            "p                    1010.5\n",
            "pm10                   11\n",
            "pm25                   46\n",
            "t                      13.5\n",
            "w                       0.6\n",
            "wg                      2.1\n",
            "\n",
            "Prediction Name                                 Model Output\n",
            "----------------------------------------------  --------------\n",
            "Q1 (General feeling)                            4\n",
            "Q2 (Concentration)                              3\n",
            "Q3 (Work Stress)                                1\n",
            "Q4 (Dizziness, headaches, shortness of breath)  no\n",
            "Q5 (Allergic responses)                         no\n",
            "\n",
            "Prediction Name                                 Ground Truth\n",
            "----------------------------------------------  --------------\n",
            "Q1 (General feeling)                            4\n",
            "Q2 (Concentration)                              3\n",
            "Q3 (Work Stress)                                1\n",
            "Q4 (Dizziness, headaches, shortness of breath)  no\n",
            "Q5 (Allergic responses)                         no\n",
            "\n",
            "==================================================================\n",
            "\n",
            "\n",
            "Visualizing input 15\n",
            "\n",
            "Input name      Input value\n",
            "------------  -------------\n",
            "h                      93.6\n",
            "no2                    39.3\n",
            "o3                      8.9\n",
            "p                     997.6\n",
            "pm10                   30\n",
            "pm25                   86\n",
            "t                      28.3\n",
            "w                       0.4\n",
            "wg                      1.6\n",
            "\n",
            "Prediction Name                                 Model Output\n",
            "----------------------------------------------  --------------\n",
            "Q1 (General feeling)                            3\n",
            "Q2 (Concentration)                              2\n",
            "Q3 (Work Stress)                                2\n",
            "Q4 (Dizziness, headaches, shortness of breath)  no\n",
            "Q5 (Allergic responses)                         no\n",
            "\n",
            "Prediction Name                                 Ground Truth\n",
            "----------------------------------------------  --------------\n",
            "Q1 (General feeling)                            3\n",
            "Q2 (Concentration)                              2\n",
            "Q3 (Work Stress)                                2\n",
            "Q4 (Dizziness, headaches, shortness of breath)  no\n",
            "Q5 (Allergic responses)                         no\n",
            "\n",
            "==================================================================\n",
            "\n",
            "\n",
            "Visualizing input 16\n",
            "\n",
            "Input name      Input value\n",
            "------------  -------------\n",
            "h                      92.6\n",
            "no2                    40.6\n",
            "o3                      4.3\n",
            "p                     997.1\n",
            "pm10                   39\n",
            "pm25                  100\n",
            "t                      28.3\n",
            "w                       0.2\n",
            "wg                      1.4\n",
            "\n",
            "Prediction Name                                 Model Output\n",
            "----------------------------------------------  --------------\n",
            "Q1 (General feeling)                            4\n",
            "Q2 (Concentration)                              3\n",
            "Q3 (Work Stress)                                3\n",
            "Q4 (Dizziness, headaches, shortness of breath)  no\n",
            "Q5 (Allergic responses)                         no\n",
            "\n",
            "Prediction Name                                 Ground Truth\n",
            "----------------------------------------------  --------------\n",
            "Q1 (General feeling)                            4\n",
            "Q2 (Concentration)                              3\n",
            "Q3 (Work Stress)                                3\n",
            "Q4 (Dizziness, headaches, shortness of breath)  no\n",
            "Q5 (Allergic responses)                         no\n",
            "\n",
            "==================================================================\n",
            "\n",
            "\n",
            "Visualizing input 17\n",
            "\n",
            "Input name      Input value\n",
            "------------  -------------\n",
            "h                      79\n",
            "no2                    25.4\n",
            "o3                     27.2\n",
            "p                     996\n",
            "pm10                   28\n",
            "pm25                   66\n",
            "t                      30\n",
            "w                      11\n",
            "wg                      0\n",
            "\n",
            "Prediction Name                                 Model Output\n",
            "----------------------------------------------  --------------\n",
            "Q1 (General feeling)                            3\n",
            "Q2 (Concentration)                              3\n",
            "Q3 (Work Stress)                                3\n",
            "Q4 (Dizziness, headaches, shortness of breath)  yes\n",
            "Q5 (Allergic responses)                         yes\n",
            "\n",
            "Prediction Name                                 Ground Truth\n",
            "----------------------------------------------  --------------\n",
            "Q1 (General feeling)                            4\n",
            "Q2 (Concentration)                              2\n",
            "Q3 (Work Stress)                                3\n",
            "Q4 (Dizziness, headaches, shortness of breath)  no\n",
            "Q5 (Allergic responses)                         no\n",
            "\n",
            "==================================================================\n",
            "\n",
            "\n",
            "Visualizing input 18\n",
            "\n",
            "Input name      Input value\n",
            "------------  -------------\n",
            "h                      89.5\n",
            "no2                     1.9\n",
            "o3                     13\n",
            "p                     999\n",
            "pm10                   10\n",
            "pm25                   21\n",
            "t                      13.6\n",
            "w                       1\n",
            "wg                      8\n",
            "\n",
            "Prediction Name                                 Model Output\n",
            "----------------------------------------------  --------------\n",
            "Q1 (General feeling)                            3\n",
            "Q2 (Concentration)                              4\n",
            "Q3 (Work Stress)                                2\n",
            "Q4 (Dizziness, headaches, shortness of breath)  no\n",
            "Q5 (Allergic responses)                         no\n",
            "\n",
            "Prediction Name                                 Ground Truth\n",
            "----------------------------------------------  --------------\n",
            "Q1 (General feeling)                            4\n",
            "Q2 (Concentration)                              4\n",
            "Q3 (Work Stress)                                3\n",
            "Q4 (Dizziness, headaches, shortness of breath)  no\n",
            "Q5 (Allergic responses)                         no\n",
            "\n",
            "==================================================================\n",
            "\n",
            "\n",
            "Visualizing input 19\n",
            "\n",
            "Input name      Input value\n",
            "------------  -------------\n",
            "h                      88.4\n",
            "no2                    28.5\n",
            "o3                     10.9\n",
            "p                    1003.2\n",
            "pm10                   46\n",
            "pm25                  100\n",
            "t                      28.3\n",
            "w                       0.6\n",
            "wg                      2.4\n",
            "\n",
            "Prediction Name                                 Model Output\n",
            "----------------------------------------------  --------------\n",
            "Q1 (General feeling)                            3\n",
            "Q2 (Concentration)                              4\n",
            "Q3 (Work Stress)                                4\n",
            "Q4 (Dizziness, headaches, shortness of breath)  no\n",
            "Q5 (Allergic responses)                         no\n",
            "\n",
            "Prediction Name                                 Ground Truth\n",
            "----------------------------------------------  --------------\n",
            "Q1 (General feeling)                            3\n",
            "Q2 (Concentration)                              2\n",
            "Q3 (Work Stress)                                4\n",
            "Q4 (Dizziness, headaches, shortness of breath)  no\n",
            "Q5 (Allergic responses)                         no\n",
            "\n",
            "==================================================================\n",
            "\n",
            "\n"
          ],
          "name": "stdout"
        }
      ]
    },
    {
      "cell_type": "code",
      "metadata": {
        "colab": {
          "base_uri": "https://localhost:8080/"
        },
        "id": "HYo0OXTzOccd",
        "outputId": "dcc74dbd-da25-4a7b-98d6-577b1e3fc22e"
      },
      "source": [
        "server_features[:, locate_label_by_name('pm10', FEATURE_CLASSES)]"
      ],
      "execution_count": 14,
      "outputs": [
        {
          "output_type": "execute_result",
          "data": {
            "text/plain": [
              "array([35., 10., 10., 18.,  9., 38.,  8.,  0., 10.,  9., 14., 19.,  7.,\n",
              "       10., 11., 30., 39., 28., 10., 46.], dtype=float32)"
            ]
          },
          "metadata": {
            "tags": []
          },
          "execution_count": 14
        }
      ]
    },
    {
      "cell_type": "code",
      "metadata": {
        "colab": {
          "base_uri": "https://localhost:8080/",
          "height": 635
        },
        "id": "lOVKFF2cNC-I",
        "outputId": "7cc1de93-a00f-4685-9133-e2a39c839ab0"
      },
      "source": [
        "# How stress levels vary with PM2.5 concentration,\n",
        "# assuming that all other values follow server_features[0]\n",
        "plot_relation_by_name('pm10', 'Q3 (Work Stress)',\n",
        "                      autorange('pm25', 100))"
      ],
      "execution_count": 16,
      "outputs": [
        {
          "output_type": "display_data",
          "data": {
            "image/png": "[encoded data removed]",
            "text/plain": [
              "<Figure size 1200x750 with 1 Axes>"
            ]
          },
          "metadata": {
            "tags": [],
            "needs_background": "light"
          }
        }
      ]
    },
    {
      "cell_type": "code",
      "metadata": {
        "colab": {
          "base_uri": "https://localhost:8080/",
          "height": 727
        },
        "id": "8zyVA9SzpLA7",
        "outputId": "ec1a23ec-cdd0-4e2c-993a-aa3a73a23205"
      },
      "source": [
        "plot_relation_by_name('no2', 'Q2 (Concentration)',\n",
        "                      autorange('pm25', 100))"
      ],
      "execution_count": 17,
      "outputs": [
        {
          "output_type": "display_data",
          "data": {
            "image/png": "[encoded data removed]",
            "text/plain": [
              "<Figure size 1200x750 with 1 Axes>"
            ]
          },
          "metadata": {
            "tags": [],
            "needs_background": "light"
          }
        }
      ]
    },
    {
      "cell_type": "code",
      "metadata": {
        "colab": {
          "base_uri": "https://localhost:8080/",
          "height": 623
        },
        "id": "yVC151bHqAAV",
        "outputId": "5917200d-de63-4cc7-8988-ebacefca3a4f"
      },
      "source": [
        "plot_relation_from_data('no2', 'Q2 (Concentration)')"
      ],
      "execution_count": 18,
      "outputs": [
        {
          "output_type": "display_data",
          "data": {
            "image/png": "[encoded data removed]",
            "text/plain": [
              "<Figure size 1200x750 with 1 Axes>"
            ]
          },
          "metadata": {
            "tags": [],
            "needs_background": "light"
          }
        }
      ]
    }
  ]
}